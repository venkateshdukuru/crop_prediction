{
 "cells": [
  {
   "cell_type": "code",
   "execution_count": 1,
   "id": "103932d0",
   "metadata": {
    "_cell_guid": "b1076dfc-b9ad-4769-8c92-a6c4dae69d19",
    "_uuid": "8f2839f25d086af736a60e9eeb907d3b93b6e0e5",
    "execution": {
     "iopub.execute_input": "2023-03-27T13:49:24.069187Z",
     "iopub.status.busy": "2023-03-27T13:49:24.068601Z",
     "iopub.status.idle": "2023-03-27T13:49:26.242745Z",
     "shell.execute_reply": "2023-03-27T13:49:26.241168Z"
    },
    "id": "103932d0",
    "papermill": {
     "duration": 2.192548,
     "end_time": "2023-03-27T13:49:26.246665",
     "exception": false,
     "start_time": "2023-03-27T13:49:24.054117",
     "status": "completed"
    },
    "tags": []
   },
   "outputs": [],
   "source": [
    "import pandas as pd\n",
    "import numpy as np\n",
    "import seaborn as sns\n",
    "import matplotlib.pyplot as plt\n",
    "from sklearn import preprocessing\n",
    "from sklearn.metrics import confusion_matrix,accuracy_score,classification_report\n",
    "from sklearn.model_selection import train_test_split\n",
    "from sklearn.ensemble import RandomForestClassifier\n",
    "from sklearn.ensemble import ExtraTreesClassifier\n",
    "from sklearn.neighbors import KNeighborsClassifier"
   ]
  },
  {
   "cell_type": "code",
   "execution_count": 5,
   "id": "e92297ae",
   "metadata": {},
   "outputs": [
    {
     "data": {
      "text/html": [
       "<div>\n",
       "<style scoped>\n",
       "    .dataframe tbody tr th:only-of-type {\n",
       "        vertical-align: middle;\n",
       "    }\n",
       "\n",
       "    .dataframe tbody tr th {\n",
       "        vertical-align: top;\n",
       "    }\n",
       "\n",
       "    .dataframe thead th {\n",
       "        text-align: right;\n",
       "    }\n",
       "</style>\n",
       "<table border=\"1\" class=\"dataframe\">\n",
       "  <thead>\n",
       "    <tr style=\"text-align: right;\">\n",
       "      <th></th>\n",
       "      <th>Nitrogen</th>\n",
       "      <th>phosphorus</th>\n",
       "      <th>potassium</th>\n",
       "      <th>temperature</th>\n",
       "      <th>humidity</th>\n",
       "      <th>ph</th>\n",
       "      <th>rainfall</th>\n",
       "      <th>label</th>\n",
       "      <th>Unnamed: 8</th>\n",
       "      <th>Unnamed: 9</th>\n",
       "    </tr>\n",
       "  </thead>\n",
       "  <tbody>\n",
       "    <tr>\n",
       "      <th>0</th>\n",
       "      <td>90</td>\n",
       "      <td>42</td>\n",
       "      <td>43</td>\n",
       "      <td>20.879744</td>\n",
       "      <td>82.002744</td>\n",
       "      <td>6.502985</td>\n",
       "      <td>202.935536</td>\n",
       "      <td>rice</td>\n",
       "      <td>NaN</td>\n",
       "      <td>NaN</td>\n",
       "    </tr>\n",
       "    <tr>\n",
       "      <th>1</th>\n",
       "      <td>85</td>\n",
       "      <td>58</td>\n",
       "      <td>41</td>\n",
       "      <td>21.770462</td>\n",
       "      <td>80.319644</td>\n",
       "      <td>7.038096</td>\n",
       "      <td>226.655537</td>\n",
       "      <td>rice</td>\n",
       "      <td>NaN</td>\n",
       "      <td>NaN</td>\n",
       "    </tr>\n",
       "    <tr>\n",
       "      <th>2</th>\n",
       "      <td>60</td>\n",
       "      <td>55</td>\n",
       "      <td>44</td>\n",
       "      <td>23.004459</td>\n",
       "      <td>82.320763</td>\n",
       "      <td>7.840207</td>\n",
       "      <td>263.964248</td>\n",
       "      <td>rice</td>\n",
       "      <td>NaN</td>\n",
       "      <td>NaN</td>\n",
       "    </tr>\n",
       "    <tr>\n",
       "      <th>3</th>\n",
       "      <td>74</td>\n",
       "      <td>35</td>\n",
       "      <td>40</td>\n",
       "      <td>26.491096</td>\n",
       "      <td>80.158363</td>\n",
       "      <td>6.980401</td>\n",
       "      <td>242.864034</td>\n",
       "      <td>rice</td>\n",
       "      <td>NaN</td>\n",
       "      <td>NaN</td>\n",
       "    </tr>\n",
       "    <tr>\n",
       "      <th>4</th>\n",
       "      <td>78</td>\n",
       "      <td>42</td>\n",
       "      <td>42</td>\n",
       "      <td>20.130175</td>\n",
       "      <td>81.604873</td>\n",
       "      <td>7.628473</td>\n",
       "      <td>262.717340</td>\n",
       "      <td>rice</td>\n",
       "      <td>NaN</td>\n",
       "      <td>NaN</td>\n",
       "    </tr>\n",
       "  </tbody>\n",
       "</table>\n",
       "</div>"
      ],
      "text/plain": [
       "   Nitrogen  phosphorus  potassium  temperature   humidity        ph  \\\n",
       "0        90          42         43    20.879744  82.002744  6.502985   \n",
       "1        85          58         41    21.770462  80.319644  7.038096   \n",
       "2        60          55         44    23.004459  82.320763  7.840207   \n",
       "3        74          35         40    26.491096  80.158363  6.980401   \n",
       "4        78          42         42    20.130175  81.604873  7.628473   \n",
       "\n",
       "     rainfall label  Unnamed: 8  Unnamed: 9  \n",
       "0  202.935536  rice         NaN         NaN  \n",
       "1  226.655537  rice         NaN         NaN  \n",
       "2  263.964248  rice         NaN         NaN  \n",
       "3  242.864034  rice         NaN         NaN  \n",
       "4  262.717340  rice         NaN         NaN  "
      ]
     },
     "execution_count": 5,
     "metadata": {},
     "output_type": "execute_result"
    }
   ],
   "source": [
    "\n",
    "import os, types\n",
    "import pandas as pd\n",
    "from botocore.client import Config\n",
    "import ibm_boto3\n",
    "\n",
    "def __iter__(self): return 0\n",
    "\n",
    "# @hidden_cell\n",
    "# The following code accesses a file in your IBM Cloud Object Storage. It includes your credentials.\n",
    "# You might want to remove those credentials before you share the notebook.\n",
    "cos_client = ibm_boto3.client(service_name='s3',\n",
    "    ibm_api_key_id='whNgRKLxoYuprIFRey9ghFPfb9ty655tbhDAxvKtFQRP',\n",
    "    ibm_auth_endpoint=\"https://iam.cloud.ibm.com/oidc/token\",\n",
    "    config=Config(signature_version='oauth'),\n",
    "    endpoint_url='https://s3.private.eu-gb.cloud-object-storage.appdomain.cloud')\n",
    "\n",
    "bucket = 'croprecommendation-donotdelete-pr-cv0cfzurzi6tj9'\n",
    "object_key = 'Crop_recommendation.csv'\n",
    "\n",
    "body = cos_client.get_object(Bucket=bucket,Key=object_key)['Body']\n",
    "# add missing __iter__ method, so pandas accepts body as file-like object\n",
    "if not hasattr(body, \"__iter__\"): body.__iter__ = types.MethodType( __iter__, body )\n",
    "\n",
    "df = pd.read_csv(body)\n",
    "df.head()\n",
    "\n"
   ]
  },
  {
   "cell_type": "code",
   "execution_count": 6,
   "id": "740bfd38",
   "metadata": {
    "colab": {
     "base_uri": "https://localhost:8080/",
     "height": 206
    },
    "execution": {
     "iopub.execute_input": "2023-03-27T13:49:26.390800Z",
     "iopub.status.busy": "2023-03-27T13:49:26.390337Z",
     "iopub.status.idle": "2023-03-27T13:49:26.406969Z",
     "shell.execute_reply": "2023-03-27T13:49:26.405681Z"
    },
    "id": "740bfd38",
    "outputId": "e7180dca-e1d3-4141-8da9-dbd554f2260d",
    "papermill": {
     "duration": 0.032812,
     "end_time": "2023-03-27T13:49:26.409637",
     "exception": false,
     "start_time": "2023-03-27T13:49:26.376825",
     "status": "completed"
    },
    "tags": []
   },
   "outputs": [
    {
     "data": {
      "text/html": [
       "<div>\n",
       "<style scoped>\n",
       "    .dataframe tbody tr th:only-of-type {\n",
       "        vertical-align: middle;\n",
       "    }\n",
       "\n",
       "    .dataframe tbody tr th {\n",
       "        vertical-align: top;\n",
       "    }\n",
       "\n",
       "    .dataframe thead th {\n",
       "        text-align: right;\n",
       "    }\n",
       "</style>\n",
       "<table border=\"1\" class=\"dataframe\">\n",
       "  <thead>\n",
       "    <tr style=\"text-align: right;\">\n",
       "      <th></th>\n",
       "      <th>Nitrogen</th>\n",
       "      <th>phosphorus</th>\n",
       "      <th>potassium</th>\n",
       "      <th>temperature</th>\n",
       "      <th>humidity</th>\n",
       "      <th>ph</th>\n",
       "      <th>rainfall</th>\n",
       "      <th>label</th>\n",
       "      <th>Unnamed: 8</th>\n",
       "      <th>Unnamed: 9</th>\n",
       "    </tr>\n",
       "  </thead>\n",
       "  <tbody>\n",
       "    <tr>\n",
       "      <th>2195</th>\n",
       "      <td>107</td>\n",
       "      <td>34</td>\n",
       "      <td>32</td>\n",
       "      <td>26.774637</td>\n",
       "      <td>66.413269</td>\n",
       "      <td>6.780064</td>\n",
       "      <td>177.774507</td>\n",
       "      <td>coffee</td>\n",
       "      <td>NaN</td>\n",
       "      <td>NaN</td>\n",
       "    </tr>\n",
       "    <tr>\n",
       "      <th>2196</th>\n",
       "      <td>99</td>\n",
       "      <td>15</td>\n",
       "      <td>27</td>\n",
       "      <td>27.417112</td>\n",
       "      <td>56.636362</td>\n",
       "      <td>6.086922</td>\n",
       "      <td>127.924610</td>\n",
       "      <td>coffee</td>\n",
       "      <td>NaN</td>\n",
       "      <td>NaN</td>\n",
       "    </tr>\n",
       "    <tr>\n",
       "      <th>2197</th>\n",
       "      <td>118</td>\n",
       "      <td>33</td>\n",
       "      <td>30</td>\n",
       "      <td>24.131797</td>\n",
       "      <td>67.225123</td>\n",
       "      <td>6.362608</td>\n",
       "      <td>173.322839</td>\n",
       "      <td>coffee</td>\n",
       "      <td>NaN</td>\n",
       "      <td>NaN</td>\n",
       "    </tr>\n",
       "    <tr>\n",
       "      <th>2198</th>\n",
       "      <td>117</td>\n",
       "      <td>32</td>\n",
       "      <td>34</td>\n",
       "      <td>26.272418</td>\n",
       "      <td>52.127394</td>\n",
       "      <td>6.758793</td>\n",
       "      <td>127.175293</td>\n",
       "      <td>coffee</td>\n",
       "      <td>NaN</td>\n",
       "      <td>NaN</td>\n",
       "    </tr>\n",
       "    <tr>\n",
       "      <th>2199</th>\n",
       "      <td>104</td>\n",
       "      <td>18</td>\n",
       "      <td>30</td>\n",
       "      <td>23.603016</td>\n",
       "      <td>60.396475</td>\n",
       "      <td>6.779833</td>\n",
       "      <td>140.937041</td>\n",
       "      <td>coffee</td>\n",
       "      <td>NaN</td>\n",
       "      <td>NaN</td>\n",
       "    </tr>\n",
       "  </tbody>\n",
       "</table>\n",
       "</div>"
      ],
      "text/plain": [
       "      Nitrogen  phosphorus  potassium  temperature   humidity        ph  \\\n",
       "2195       107          34         32    26.774637  66.413269  6.780064   \n",
       "2196        99          15         27    27.417112  56.636362  6.086922   \n",
       "2197       118          33         30    24.131797  67.225123  6.362608   \n",
       "2198       117          32         34    26.272418  52.127394  6.758793   \n",
       "2199       104          18         30    23.603016  60.396475  6.779833   \n",
       "\n",
       "        rainfall   label  Unnamed: 8  Unnamed: 9  \n",
       "2195  177.774507  coffee         NaN         NaN  \n",
       "2196  127.924610  coffee         NaN         NaN  \n",
       "2197  173.322839  coffee         NaN         NaN  \n",
       "2198  127.175293  coffee         NaN         NaN  \n",
       "2199  140.937041  coffee         NaN         NaN  "
      ]
     },
     "execution_count": 6,
     "metadata": {},
     "output_type": "execute_result"
    }
   ],
   "source": [
    "df.tail()"
   ]
  },
  {
   "cell_type": "code",
   "execution_count": 7,
   "id": "ad8b2326",
   "metadata": {
    "colab": {
     "base_uri": "https://localhost:8080/",
     "height": 206
    },
    "execution": {
     "iopub.execute_input": "2023-03-27T13:49:26.509327Z",
     "iopub.status.busy": "2023-03-27T13:49:26.508633Z",
     "iopub.status.idle": "2023-03-27T13:49:26.525535Z",
     "shell.execute_reply": "2023-03-27T13:49:26.523642Z"
    },
    "id": "ad8b2326",
    "outputId": "68eabd07-d081-4dfe-ed81-365e475b8733",
    "papermill": {
     "duration": 0.033552,
     "end_time": "2023-03-27T13:49:26.528454",
     "exception": false,
     "start_time": "2023-03-27T13:49:26.494902",
     "status": "completed"
    },
    "tags": []
   },
   "outputs": [
    {
     "data": {
      "text/html": [
       "<div>\n",
       "<style scoped>\n",
       "    .dataframe tbody tr th:only-of-type {\n",
       "        vertical-align: middle;\n",
       "    }\n",
       "\n",
       "    .dataframe tbody tr th {\n",
       "        vertical-align: top;\n",
       "    }\n",
       "\n",
       "    .dataframe thead th {\n",
       "        text-align: right;\n",
       "    }\n",
       "</style>\n",
       "<table border=\"1\" class=\"dataframe\">\n",
       "  <thead>\n",
       "    <tr style=\"text-align: right;\">\n",
       "      <th></th>\n",
       "      <th>Nitrogen</th>\n",
       "      <th>phosphorus</th>\n",
       "      <th>potassium</th>\n",
       "      <th>temperature</th>\n",
       "      <th>humidity</th>\n",
       "      <th>ph</th>\n",
       "      <th>rainfall</th>\n",
       "      <th>label</th>\n",
       "      <th>Unnamed: 8</th>\n",
       "      <th>Unnamed: 9</th>\n",
       "    </tr>\n",
       "  </thead>\n",
       "  <tbody>\n",
       "    <tr>\n",
       "      <th>0</th>\n",
       "      <td>90</td>\n",
       "      <td>42</td>\n",
       "      <td>43</td>\n",
       "      <td>20.879744</td>\n",
       "      <td>82.002744</td>\n",
       "      <td>6.502985</td>\n",
       "      <td>202.935536</td>\n",
       "      <td>rice</td>\n",
       "      <td>NaN</td>\n",
       "      <td>NaN</td>\n",
       "    </tr>\n",
       "    <tr>\n",
       "      <th>1</th>\n",
       "      <td>85</td>\n",
       "      <td>58</td>\n",
       "      <td>41</td>\n",
       "      <td>21.770462</td>\n",
       "      <td>80.319644</td>\n",
       "      <td>7.038096</td>\n",
       "      <td>226.655537</td>\n",
       "      <td>rice</td>\n",
       "      <td>NaN</td>\n",
       "      <td>NaN</td>\n",
       "    </tr>\n",
       "    <tr>\n",
       "      <th>2</th>\n",
       "      <td>60</td>\n",
       "      <td>55</td>\n",
       "      <td>44</td>\n",
       "      <td>23.004459</td>\n",
       "      <td>82.320763</td>\n",
       "      <td>7.840207</td>\n",
       "      <td>263.964248</td>\n",
       "      <td>rice</td>\n",
       "      <td>NaN</td>\n",
       "      <td>NaN</td>\n",
       "    </tr>\n",
       "    <tr>\n",
       "      <th>3</th>\n",
       "      <td>74</td>\n",
       "      <td>35</td>\n",
       "      <td>40</td>\n",
       "      <td>26.491096</td>\n",
       "      <td>80.158363</td>\n",
       "      <td>6.980401</td>\n",
       "      <td>242.864034</td>\n",
       "      <td>rice</td>\n",
       "      <td>NaN</td>\n",
       "      <td>NaN</td>\n",
       "    </tr>\n",
       "    <tr>\n",
       "      <th>4</th>\n",
       "      <td>78</td>\n",
       "      <td>42</td>\n",
       "      <td>42</td>\n",
       "      <td>20.130175</td>\n",
       "      <td>81.604873</td>\n",
       "      <td>7.628473</td>\n",
       "      <td>262.717340</td>\n",
       "      <td>rice</td>\n",
       "      <td>NaN</td>\n",
       "      <td>NaN</td>\n",
       "    </tr>\n",
       "  </tbody>\n",
       "</table>\n",
       "</div>"
      ],
      "text/plain": [
       "   Nitrogen  phosphorus  potassium  temperature   humidity        ph  \\\n",
       "0        90          42         43    20.879744  82.002744  6.502985   \n",
       "1        85          58         41    21.770462  80.319644  7.038096   \n",
       "2        60          55         44    23.004459  82.320763  7.840207   \n",
       "3        74          35         40    26.491096  80.158363  6.980401   \n",
       "4        78          42         42    20.130175  81.604873  7.628473   \n",
       "\n",
       "     rainfall label  Unnamed: 8  Unnamed: 9  \n",
       "0  202.935536  rice         NaN         NaN  \n",
       "1  226.655537  rice         NaN         NaN  \n",
       "2  263.964248  rice         NaN         NaN  \n",
       "3  242.864034  rice         NaN         NaN  \n",
       "4  262.717340  rice         NaN         NaN  "
      ]
     },
     "execution_count": 7,
     "metadata": {},
     "output_type": "execute_result"
    }
   ],
   "source": [
    "df.head()"
   ]
  },
  {
   "cell_type": "code",
   "execution_count": 8,
   "id": "b05a47f4",
   "metadata": {
    "execution": {
     "iopub.execute_input": "2023-03-27T13:49:26.554459Z",
     "iopub.status.busy": "2023-03-27T13:49:26.554010Z",
     "iopub.status.idle": "2023-03-27T13:49:26.565240Z",
     "shell.execute_reply": "2023-03-27T13:49:26.563238Z"
    },
    "id": "b05a47f4",
    "papermill": {
     "duration": 0.027988,
     "end_time": "2023-03-27T13:49:26.568455",
     "exception": false,
     "start_time": "2023-03-27T13:49:26.540467",
     "status": "completed"
    },
    "tags": []
   },
   "outputs": [],
   "source": [
    "df=df.drop(['Unnamed: 8','Unnamed: 9'], axis=1)"
   ]
  },
  {
   "cell_type": "code",
   "execution_count": 9,
   "id": "24584b6b",
   "metadata": {
    "colab": {
     "base_uri": "https://localhost:8080/"
    },
    "execution": {
     "iopub.execute_input": "2023-03-27T13:49:26.595588Z",
     "iopub.status.busy": "2023-03-27T13:49:26.595124Z",
     "iopub.status.idle": "2023-03-27T13:49:26.602820Z",
     "shell.execute_reply": "2023-03-27T13:49:26.601481Z"
    },
    "id": "24584b6b",
    "outputId": "037b68cb-e7f2-4d7b-e396-7e035fd733b5",
    "papermill": {
     "duration": 0.024933,
     "end_time": "2023-03-27T13:49:26.605459",
     "exception": false,
     "start_time": "2023-03-27T13:49:26.580526",
     "status": "completed"
    },
    "tags": []
   },
   "outputs": [
    {
     "data": {
      "text/plain": [
       "(2200, 8)"
      ]
     },
     "execution_count": 9,
     "metadata": {},
     "output_type": "execute_result"
    }
   ],
   "source": [
    "df.shape"
   ]
  },
  {
   "cell_type": "code",
   "execution_count": 10,
   "id": "35429697",
   "metadata": {
    "colab": {
     "base_uri": "https://localhost:8080/"
    },
    "execution": {
     "iopub.execute_input": "2023-03-27T13:49:26.631859Z",
     "iopub.status.busy": "2023-03-27T13:49:26.631415Z",
     "iopub.status.idle": "2023-03-27T13:49:26.642957Z",
     "shell.execute_reply": "2023-03-27T13:49:26.641262Z"
    },
    "id": "35429697",
    "outputId": "f9e8117d-846b-45d4-9cd1-0ceb277aa7f2",
    "papermill": {
     "duration": 0.029008,
     "end_time": "2023-03-27T13:49:26.646640",
     "exception": false,
     "start_time": "2023-03-27T13:49:26.617632",
     "status": "completed"
    },
    "tags": []
   },
   "outputs": [
    {
     "data": {
      "text/plain": [
       "Nitrogen       0\n",
       "phosphorus     0\n",
       "potassium      0\n",
       "temperature    0\n",
       "humidity       0\n",
       "ph             0\n",
       "rainfall       0\n",
       "label          0\n",
       "dtype: int64"
      ]
     },
     "execution_count": 10,
     "metadata": {},
     "output_type": "execute_result"
    }
   ],
   "source": [
    "df.isnull().sum()"
   ]
  },
  {
   "cell_type": "code",
   "execution_count": 11,
   "id": "1504859f",
   "metadata": {
    "colab": {
     "base_uri": "https://localhost:8080/"
    },
    "execution": {
     "iopub.execute_input": "2023-03-27T13:49:26.673026Z",
     "iopub.status.busy": "2023-03-27T13:49:26.672575Z",
     "iopub.status.idle": "2023-03-27T13:49:26.703340Z",
     "shell.execute_reply": "2023-03-27T13:49:26.701738Z"
    },
    "id": "1504859f",
    "outputId": "2060b585-941a-46af-b24c-f4248924513b",
    "papermill": {
     "duration": 0.047231,
     "end_time": "2023-03-27T13:49:26.706115",
     "exception": false,
     "start_time": "2023-03-27T13:49:26.658884",
     "status": "completed"
    },
    "tags": []
   },
   "outputs": [
    {
     "name": "stdout",
     "output_type": "stream",
     "text": [
      "<class 'pandas.core.frame.DataFrame'>\n",
      "RangeIndex: 2200 entries, 0 to 2199\n",
      "Data columns (total 8 columns):\n",
      " #   Column       Non-Null Count  Dtype  \n",
      "---  ------       --------------  -----  \n",
      " 0   Nitrogen     2200 non-null   int64  \n",
      " 1   phosphorus   2200 non-null   int64  \n",
      " 2   potassium    2200 non-null   int64  \n",
      " 3   temperature  2200 non-null   float64\n",
      " 4   humidity     2200 non-null   float64\n",
      " 5   ph           2200 non-null   float64\n",
      " 6   rainfall     2200 non-null   float64\n",
      " 7   label        2200 non-null   object \n",
      "dtypes: float64(4), int64(3), object(1)\n",
      "memory usage: 137.6+ KB\n"
     ]
    }
   ],
   "source": [
    "df.info()"
   ]
  },
  {
   "cell_type": "code",
   "execution_count": 12,
   "id": "fea4b97f",
   "metadata": {
    "colab": {
     "base_uri": "https://localhost:8080/",
     "height": 269
    },
    "execution": {
     "iopub.execute_input": "2023-03-27T13:49:26.733563Z",
     "iopub.status.busy": "2023-03-27T13:49:26.733115Z",
     "iopub.status.idle": "2023-03-27T13:49:26.777153Z",
     "shell.execute_reply": "2023-03-27T13:49:26.775392Z"
    },
    "id": "fea4b97f",
    "outputId": "90fac931-239d-45ce-ca4d-a84d11963616",
    "papermill": {
     "duration": 0.061301,
     "end_time": "2023-03-27T13:49:26.780698",
     "exception": false,
     "start_time": "2023-03-27T13:49:26.719397",
     "status": "completed"
    },
    "tags": []
   },
   "outputs": [
    {
     "data": {
      "text/html": [
       "<div>\n",
       "<style scoped>\n",
       "    .dataframe tbody tr th:only-of-type {\n",
       "        vertical-align: middle;\n",
       "    }\n",
       "\n",
       "    .dataframe tbody tr th {\n",
       "        vertical-align: top;\n",
       "    }\n",
       "\n",
       "    .dataframe thead th {\n",
       "        text-align: right;\n",
       "    }\n",
       "</style>\n",
       "<table border=\"1\" class=\"dataframe\">\n",
       "  <thead>\n",
       "    <tr style=\"text-align: right;\">\n",
       "      <th></th>\n",
       "      <th>count</th>\n",
       "      <th>mean</th>\n",
       "      <th>std</th>\n",
       "      <th>min</th>\n",
       "      <th>25%</th>\n",
       "      <th>50%</th>\n",
       "      <th>75%</th>\n",
       "      <th>max</th>\n",
       "    </tr>\n",
       "  </thead>\n",
       "  <tbody>\n",
       "    <tr>\n",
       "      <th>Nitrogen</th>\n",
       "      <td>2200.0</td>\n",
       "      <td>50.551818</td>\n",
       "      <td>36.917334</td>\n",
       "      <td>0.000000</td>\n",
       "      <td>21.000000</td>\n",
       "      <td>37.000000</td>\n",
       "      <td>84.250000</td>\n",
       "      <td>140.000000</td>\n",
       "    </tr>\n",
       "    <tr>\n",
       "      <th>phosphorus</th>\n",
       "      <td>2200.0</td>\n",
       "      <td>53.362727</td>\n",
       "      <td>32.985883</td>\n",
       "      <td>5.000000</td>\n",
       "      <td>28.000000</td>\n",
       "      <td>51.000000</td>\n",
       "      <td>68.000000</td>\n",
       "      <td>145.000000</td>\n",
       "    </tr>\n",
       "    <tr>\n",
       "      <th>potassium</th>\n",
       "      <td>2200.0</td>\n",
       "      <td>48.149091</td>\n",
       "      <td>50.647931</td>\n",
       "      <td>5.000000</td>\n",
       "      <td>20.000000</td>\n",
       "      <td>32.000000</td>\n",
       "      <td>49.000000</td>\n",
       "      <td>205.000000</td>\n",
       "    </tr>\n",
       "    <tr>\n",
       "      <th>temperature</th>\n",
       "      <td>2200.0</td>\n",
       "      <td>25.616244</td>\n",
       "      <td>5.063749</td>\n",
       "      <td>8.825675</td>\n",
       "      <td>22.769375</td>\n",
       "      <td>25.598693</td>\n",
       "      <td>28.561654</td>\n",
       "      <td>43.675493</td>\n",
       "    </tr>\n",
       "    <tr>\n",
       "      <th>humidity</th>\n",
       "      <td>2200.0</td>\n",
       "      <td>71.481779</td>\n",
       "      <td>22.263812</td>\n",
       "      <td>14.258040</td>\n",
       "      <td>60.261953</td>\n",
       "      <td>80.473146</td>\n",
       "      <td>89.948771</td>\n",
       "      <td>99.981876</td>\n",
       "    </tr>\n",
       "    <tr>\n",
       "      <th>ph</th>\n",
       "      <td>2200.0</td>\n",
       "      <td>6.469480</td>\n",
       "      <td>0.773938</td>\n",
       "      <td>3.504752</td>\n",
       "      <td>5.971693</td>\n",
       "      <td>6.425045</td>\n",
       "      <td>6.923643</td>\n",
       "      <td>9.935091</td>\n",
       "    </tr>\n",
       "    <tr>\n",
       "      <th>rainfall</th>\n",
       "      <td>2200.0</td>\n",
       "      <td>103.463655</td>\n",
       "      <td>54.958389</td>\n",
       "      <td>20.211267</td>\n",
       "      <td>64.551686</td>\n",
       "      <td>94.867624</td>\n",
       "      <td>124.267508</td>\n",
       "      <td>298.560117</td>\n",
       "    </tr>\n",
       "  </tbody>\n",
       "</table>\n",
       "</div>"
      ],
      "text/plain": [
       "              count        mean        std        min        25%        50%  \\\n",
       "Nitrogen     2200.0   50.551818  36.917334   0.000000  21.000000  37.000000   \n",
       "phosphorus   2200.0   53.362727  32.985883   5.000000  28.000000  51.000000   \n",
       "potassium    2200.0   48.149091  50.647931   5.000000  20.000000  32.000000   \n",
       "temperature  2200.0   25.616244   5.063749   8.825675  22.769375  25.598693   \n",
       "humidity     2200.0   71.481779  22.263812  14.258040  60.261953  80.473146   \n",
       "ph           2200.0    6.469480   0.773938   3.504752   5.971693   6.425045   \n",
       "rainfall     2200.0  103.463655  54.958389  20.211267  64.551686  94.867624   \n",
       "\n",
       "                    75%         max  \n",
       "Nitrogen      84.250000  140.000000  \n",
       "phosphorus    68.000000  145.000000  \n",
       "potassium     49.000000  205.000000  \n",
       "temperature   28.561654   43.675493  \n",
       "humidity      89.948771   99.981876  \n",
       "ph             6.923643    9.935091  \n",
       "rainfall     124.267508  298.560117  "
      ]
     },
     "execution_count": 12,
     "metadata": {},
     "output_type": "execute_result"
    }
   ],
   "source": [
    "df.describe().T"
   ]
  },
  {
   "cell_type": "code",
   "execution_count": 13,
   "id": "cb0d5349",
   "metadata": {
    "colab": {
     "base_uri": "https://localhost:8080/",
     "height": 323
    },
    "execution": {
     "iopub.execute_input": "2023-03-27T13:49:26.807789Z",
     "iopub.status.busy": "2023-03-27T13:49:26.807375Z",
     "iopub.status.idle": "2023-03-27T13:49:26.827090Z",
     "shell.execute_reply": "2023-03-27T13:49:26.825807Z"
    },
    "id": "cb0d5349",
    "outputId": "0cf4e882-3255-4c1b-de19-ba4033aa5c98",
    "papermill": {
     "duration": 0.03682,
     "end_time": "2023-03-27T13:49:26.830129",
     "exception": false,
     "start_time": "2023-03-27T13:49:26.793309",
     "status": "completed"
    },
    "tags": []
   },
   "outputs": [
    {
     "data": {
      "text/html": [
       "<div>\n",
       "<style scoped>\n",
       "    .dataframe tbody tr th:only-of-type {\n",
       "        vertical-align: middle;\n",
       "    }\n",
       "\n",
       "    .dataframe tbody tr th {\n",
       "        vertical-align: top;\n",
       "    }\n",
       "\n",
       "    .dataframe thead th {\n",
       "        text-align: right;\n",
       "    }\n",
       "</style>\n",
       "<table border=\"1\" class=\"dataframe\">\n",
       "  <thead>\n",
       "    <tr style=\"text-align: right;\">\n",
       "      <th></th>\n",
       "      <th>Nitrogen</th>\n",
       "      <th>phosphorus</th>\n",
       "      <th>potassium</th>\n",
       "      <th>temperature</th>\n",
       "      <th>humidity</th>\n",
       "      <th>ph</th>\n",
       "      <th>rainfall</th>\n",
       "    </tr>\n",
       "  </thead>\n",
       "  <tbody>\n",
       "    <tr>\n",
       "      <th>Nitrogen</th>\n",
       "      <td>1.000000</td>\n",
       "      <td>-0.231460</td>\n",
       "      <td>-0.140512</td>\n",
       "      <td>0.026504</td>\n",
       "      <td>0.190688</td>\n",
       "      <td>0.096683</td>\n",
       "      <td>0.059020</td>\n",
       "    </tr>\n",
       "    <tr>\n",
       "      <th>phosphorus</th>\n",
       "      <td>-0.231460</td>\n",
       "      <td>1.000000</td>\n",
       "      <td>0.736232</td>\n",
       "      <td>-0.127541</td>\n",
       "      <td>-0.118734</td>\n",
       "      <td>-0.138019</td>\n",
       "      <td>-0.063839</td>\n",
       "    </tr>\n",
       "    <tr>\n",
       "      <th>potassium</th>\n",
       "      <td>-0.140512</td>\n",
       "      <td>0.736232</td>\n",
       "      <td>1.000000</td>\n",
       "      <td>-0.160387</td>\n",
       "      <td>0.190859</td>\n",
       "      <td>-0.169503</td>\n",
       "      <td>-0.053461</td>\n",
       "    </tr>\n",
       "    <tr>\n",
       "      <th>temperature</th>\n",
       "      <td>0.026504</td>\n",
       "      <td>-0.127541</td>\n",
       "      <td>-0.160387</td>\n",
       "      <td>1.000000</td>\n",
       "      <td>0.205320</td>\n",
       "      <td>-0.017795</td>\n",
       "      <td>-0.030084</td>\n",
       "    </tr>\n",
       "    <tr>\n",
       "      <th>humidity</th>\n",
       "      <td>0.190688</td>\n",
       "      <td>-0.118734</td>\n",
       "      <td>0.190859</td>\n",
       "      <td>0.205320</td>\n",
       "      <td>1.000000</td>\n",
       "      <td>-0.008483</td>\n",
       "      <td>0.094423</td>\n",
       "    </tr>\n",
       "    <tr>\n",
       "      <th>ph</th>\n",
       "      <td>0.096683</td>\n",
       "      <td>-0.138019</td>\n",
       "      <td>-0.169503</td>\n",
       "      <td>-0.017795</td>\n",
       "      <td>-0.008483</td>\n",
       "      <td>1.000000</td>\n",
       "      <td>-0.109069</td>\n",
       "    </tr>\n",
       "    <tr>\n",
       "      <th>rainfall</th>\n",
       "      <td>0.059020</td>\n",
       "      <td>-0.063839</td>\n",
       "      <td>-0.053461</td>\n",
       "      <td>-0.030084</td>\n",
       "      <td>0.094423</td>\n",
       "      <td>-0.109069</td>\n",
       "      <td>1.000000</td>\n",
       "    </tr>\n",
       "  </tbody>\n",
       "</table>\n",
       "</div>"
      ],
      "text/plain": [
       "             Nitrogen  phosphorus  potassium  temperature  humidity        ph  \\\n",
       "Nitrogen     1.000000   -0.231460  -0.140512     0.026504  0.190688  0.096683   \n",
       "phosphorus  -0.231460    1.000000   0.736232    -0.127541 -0.118734 -0.138019   \n",
       "potassium   -0.140512    0.736232   1.000000    -0.160387  0.190859 -0.169503   \n",
       "temperature  0.026504   -0.127541  -0.160387     1.000000  0.205320 -0.017795   \n",
       "humidity     0.190688   -0.118734   0.190859     0.205320  1.000000 -0.008483   \n",
       "ph           0.096683   -0.138019  -0.169503    -0.017795 -0.008483  1.000000   \n",
       "rainfall     0.059020   -0.063839  -0.053461    -0.030084  0.094423 -0.109069   \n",
       "\n",
       "             rainfall  \n",
       "Nitrogen     0.059020  \n",
       "phosphorus  -0.063839  \n",
       "potassium   -0.053461  \n",
       "temperature -0.030084  \n",
       "humidity     0.094423  \n",
       "ph          -0.109069  \n",
       "rainfall     1.000000  "
      ]
     },
     "execution_count": 13,
     "metadata": {},
     "output_type": "execute_result"
    }
   ],
   "source": [
    "corr=df.corr()\n",
    "corr"
   ]
  },
  {
   "cell_type": "code",
   "execution_count": 14,
   "id": "e829b0d8",
   "metadata": {
    "colab": {
     "base_uri": "https://localhost:8080/",
     "height": 526
    },
    "execution": {
     "iopub.execute_input": "2023-03-27T13:49:26.859425Z",
     "iopub.status.busy": "2023-03-27T13:49:26.857822Z",
     "iopub.status.idle": "2023-03-27T13:49:27.566471Z",
     "shell.execute_reply": "2023-03-27T13:49:27.564894Z"
    },
    "id": "e829b0d8",
    "outputId": "2660cf02-d477-45e0-9450-4d12f1cbd56b",
    "papermill": {
     "duration": 0.725979,
     "end_time": "2023-03-27T13:49:27.569015",
     "exception": false,
     "start_time": "2023-03-27T13:49:26.843036",
     "status": "completed"
    },
    "tags": []
   },
   "outputs": [
    {
     "data": {
      "text/plain": [
       "<AxesSubplot:>"
      ]
     },
     "execution_count": 14,
     "metadata": {},
     "output_type": "execute_result"
    },
    {
     "data": {
      "image/png": "[encoded data removed]",
      "text/plain": [
       "<Figure size 640x480 with 2 Axes>"
      ]
     },
     "metadata": {},
     "output_type": "display_data"
    }
   ],
   "source": [
    "sns.heatmap(corr, annot=True)"
   ]
  },
  {
   "cell_type": "code",
   "execution_count": 15,
   "id": "5e9265a6",
   "metadata": {
    "colab": {
     "base_uri": "https://localhost:8080/",
     "height": 867
    },
    "execution": {
     "iopub.execute_input": "2023-03-27T13:49:27.937132Z",
     "iopub.status.busy": "2023-03-27T13:49:27.935815Z",
     "iopub.status.idle": "2023-03-27T13:49:29.114763Z",
     "shell.execute_reply": "2023-03-27T13:49:29.113084Z"
    },
    "id": "5e9265a6",
    "outputId": "b92a5f9e-0688-47b6-a580-64d180c6e68d",
    "papermill": {
     "duration": 1.200472,
     "end_time": "2023-03-27T13:49:29.119411",
     "exception": false,
     "start_time": "2023-03-27T13:49:27.918939",
     "status": "completed"
    },
    "tags": []
   },
   "outputs": [
    {
     "data": {
      "text/plain": [
       "<AxesSubplot:xlabel='phosphorus', ylabel='potassium'>"
      ]
     },
     "execution_count": 15,
     "metadata": {},
     "output_type": "execute_result"
    },
    {
     "data": {
      "image/png": "[encoded data removed]",
      "text/plain": [
       "<Figure size 1000x1000 with 1 Axes>"
      ]
     },
     "metadata": {},
     "output_type": "display_data"
    }
   ],
   "source": [
    "plt.figure(figsize=(10,10))\n",
    "sns.scatterplot(x='phosphorus', y='potassium',hue='label', data=df)"
   ]
  },
  {
   "cell_type": "code",
   "execution_count": 16,
   "id": "cf9eaee7",
   "metadata": {
    "colab": {
     "base_uri": "https://localhost:8080/"
    },
    "execution": {
     "iopub.execute_input": "2023-03-27T13:49:29.162561Z",
     "iopub.status.busy": "2023-03-27T13:49:29.162068Z",
     "iopub.status.idle": "2023-03-27T13:49:29.173093Z",
     "shell.execute_reply": "2023-03-27T13:49:29.171730Z"
    },
    "id": "cf9eaee7",
    "outputId": "980c6397-3903-4949-dc93-4f07c6aabace",
    "papermill": {
     "duration": 0.036711,
     "end_time": "2023-03-27T13:49:29.175747",
     "exception": false,
     "start_time": "2023-03-27T13:49:29.139036",
     "status": "completed"
    },
    "tags": []
   },
   "outputs": [
    {
     "data": {
      "text/plain": [
       "rice           100\n",
       "maize          100\n",
       "jute           100\n",
       "cotton         100\n",
       "coconut        100\n",
       "papaya         100\n",
       "orange         100\n",
       "apple          100\n",
       "muskmelon      100\n",
       "watermelon     100\n",
       "grapes         100\n",
       "mango          100\n",
       "banana         100\n",
       "pomegranate    100\n",
       "lentil         100\n",
       "blackgram      100\n",
       "mungbean       100\n",
       "mothbeans      100\n",
       "pigeonpeas     100\n",
       "kidneybeans    100\n",
       "chickpea       100\n",
       "coffee         100\n",
       "Name: label, dtype: int64"
      ]
     },
     "execution_count": 16,
     "metadata": {},
     "output_type": "execute_result"
    }
   ],
   "source": [
    "df['label'].value_counts()"
   ]
  },
  {
   "cell_type": "code",
   "execution_count": 17,
   "id": "5d0c8e84",
   "metadata": {
    "colab": {
     "base_uri": "https://localhost:8080/",
     "height": 234
    },
    "execution": {
     "iopub.execute_input": "2023-03-27T13:49:29.216787Z",
     "iopub.status.busy": "2023-03-27T13:49:29.216253Z",
     "iopub.status.idle": "2023-03-27T13:49:29.639920Z",
     "shell.execute_reply": "2023-03-27T13:49:29.637675Z"
    },
    "id": "5d0c8e84",
    "outputId": "18f62a13-74ca-4571-c71d-0439684a9e1e",
    "papermill": {
     "duration": 0.448247,
     "end_time": "2023-03-27T13:49:29.643193",
     "exception": false,
     "start_time": "2023-03-27T13:49:29.194946",
     "status": "completed"
    },
    "tags": []
   },
   "outputs": [
    {
     "data": {
      "text/plain": [
       "<AxesSubplot:xlabel='label', ylabel='count'>"
      ]
     },
     "execution_count": 17,
     "metadata": {},
     "output_type": "execute_result"
    },
    {
     "data": {
      "image/png": "[encoded data removed]",
      "text/plain": [
       "<Figure size 2500x300 with 1 Axes>"
      ]
     },
     "metadata": {},
     "output_type": "display_data"
    }
   ],
   "source": [
    "plt.figure(figsize=(25,3))\n",
    "sns.countplot(x='label', data=df)"
   ]
  },
  {
   "cell_type": "code",
   "execution_count": 18,
   "id": "410db1bf",
   "metadata": {
    "colab": {
     "base_uri": "https://localhost:8080/",
     "height": 713
    },
    "execution": {
     "iopub.execute_input": "2023-03-27T13:49:29.687471Z",
     "iopub.status.busy": "2023-03-27T13:49:29.686991Z",
     "iopub.status.idle": "2023-03-27T13:49:30.062720Z",
     "shell.execute_reply": "2023-03-27T13:49:30.061288Z"
    },
    "id": "410db1bf",
    "outputId": "24e7cf10-9fef-4c79-b110-e0774995a0d4",
    "papermill": {
     "duration": 0.401295,
     "end_time": "2023-03-27T13:49:30.065715",
     "exception": false,
     "start_time": "2023-03-27T13:49:29.664420",
     "status": "completed"
    },
    "tags": []
   },
   "outputs": [
    {
     "data": {
      "text/plain": [
       "<AxesSubplot:xlabel='rainfall', ylabel='label'>"
      ]
     },
     "execution_count": 18,
     "metadata": {},
     "output_type": "execute_result"
    },
    {
     "data": {
      "image/png": "[encoded data removed]",
      "text/plain": [
       "<Figure size 800x800 with 1 Axes>"
      ]
     },
     "metadata": {},
     "output_type": "display_data"
    }
   ],
   "source": [
    "plt.figure(figsize=(8,8))\n",
    "sns.scatterplot(x='rainfall', y='label', data=df)\n",
    "\n",
    "\n"
   ]
  },
  {
   "cell_type": "code",
   "execution_count": 19,
   "id": "e002dc39",
   "metadata": {
    "colab": {
     "base_uri": "https://localhost:8080/",
     "height": 469
    },
    "execution": {
     "iopub.execute_input": "2023-03-27T13:49:30.112159Z",
     "iopub.status.busy": "2023-03-27T13:49:30.111639Z",
     "iopub.status.idle": "2023-03-27T13:49:31.113550Z",
     "shell.execute_reply": "2023-03-27T13:49:31.112244Z"
    },
    "id": "e002dc39",
    "outputId": "069e6846-d052-4af0-d443-cc84241b368f",
    "papermill": {
     "duration": 1.028437,
     "end_time": "2023-03-27T13:49:31.116274",
     "exception": false,
     "start_time": "2023-03-27T13:49:30.087837",
     "status": "completed"
    },
    "tags": []
   },
   "outputs": [
    {
     "data": {
      "text/plain": [
       "<Figure size 800x800 with 0 Axes>"
      ]
     },
     "metadata": {},
     "output_type": "display_data"
    },
    {
     "data": {
      "image/png": "[encoded data removed]",
      "text/plain": [
       "<Figure size 640x480 with 9 Axes>"
      ]
     },
     "metadata": {},
     "output_type": "display_data"
    }
   ],
   "source": [
    "plt.figure(figsize=(8,8))\n",
    "df.hist()\n",
    "plt.show()"
   ]
  },
  {
   "cell_type": "code",
   "execution_count": 20,
   "id": "32811b62",
   "metadata": {
    "execution": {
     "iopub.execute_input": "2023-03-27T13:49:31.165634Z",
     "iopub.status.busy": "2023-03-27T13:49:31.164292Z",
     "iopub.status.idle": "2023-03-27T13:49:31.170486Z",
     "shell.execute_reply": "2023-03-27T13:49:31.169462Z"
    },
    "id": "32811b62",
    "papermill": {
     "duration": 0.03352,
     "end_time": "2023-03-27T13:49:31.173343",
     "exception": false,
     "start_time": "2023-03-27T13:49:31.139823",
     "status": "completed"
    },
    "tags": []
   },
   "outputs": [],
   "source": [
    "label_encoder=preprocessing.LabelEncoder()"
   ]
  },
  {
   "cell_type": "code",
   "execution_count": 21,
   "id": "163066aa",
   "metadata": {
    "colab": {
     "base_uri": "https://localhost:8080/",
     "height": 443
    },
    "execution": {
     "iopub.execute_input": "2023-03-27T13:49:31.224042Z",
     "iopub.status.busy": "2023-03-27T13:49:31.222054Z",
     "iopub.status.idle": "2023-03-27T13:49:31.253877Z",
     "shell.execute_reply": "2023-03-27T13:49:31.252450Z"
    },
    "id": "163066aa",
    "outputId": "87887da1-e42e-42e1-902f-e2605c271deb",
    "papermill": {
     "duration": 0.060652,
     "end_time": "2023-03-27T13:49:31.256598",
     "exception": false,
     "start_time": "2023-03-27T13:49:31.195946",
     "status": "completed"
    },
    "tags": []
   },
   "outputs": [
    {
     "data": {
      "text/html": [
       "<div>\n",
       "<style scoped>\n",
       "    .dataframe tbody tr th:only-of-type {\n",
       "        vertical-align: middle;\n",
       "    }\n",
       "\n",
       "    .dataframe tbody tr th {\n",
       "        vertical-align: top;\n",
       "    }\n",
       "\n",
       "    .dataframe thead th {\n",
       "        text-align: right;\n",
       "    }\n",
       "</style>\n",
       "<table border=\"1\" class=\"dataframe\">\n",
       "  <thead>\n",
       "    <tr style=\"text-align: right;\">\n",
       "      <th></th>\n",
       "      <th>label_apple</th>\n",
       "      <th>label_banana</th>\n",
       "      <th>label_blackgram</th>\n",
       "      <th>label_chickpea</th>\n",
       "      <th>label_coconut</th>\n",
       "      <th>label_coffee</th>\n",
       "      <th>label_cotton</th>\n",
       "      <th>label_grapes</th>\n",
       "      <th>label_jute</th>\n",
       "      <th>label_kidneybeans</th>\n",
       "      <th>...</th>\n",
       "      <th>label_mango</th>\n",
       "      <th>label_mothbeans</th>\n",
       "      <th>label_mungbean</th>\n",
       "      <th>label_muskmelon</th>\n",
       "      <th>label_orange</th>\n",
       "      <th>label_papaya</th>\n",
       "      <th>label_pigeonpeas</th>\n",
       "      <th>label_pomegranate</th>\n",
       "      <th>label_rice</th>\n",
       "      <th>label_watermelon</th>\n",
       "    </tr>\n",
       "  </thead>\n",
       "  <tbody>\n",
       "    <tr>\n",
       "      <th>0</th>\n",
       "      <td>0</td>\n",
       "      <td>0</td>\n",
       "      <td>0</td>\n",
       "      <td>0</td>\n",
       "      <td>0</td>\n",
       "      <td>0</td>\n",
       "      <td>0</td>\n",
       "      <td>0</td>\n",
       "      <td>0</td>\n",
       "      <td>0</td>\n",
       "      <td>...</td>\n",
       "      <td>0</td>\n",
       "      <td>0</td>\n",
       "      <td>0</td>\n",
       "      <td>0</td>\n",
       "      <td>0</td>\n",
       "      <td>0</td>\n",
       "      <td>0</td>\n",
       "      <td>0</td>\n",
       "      <td>1</td>\n",
       "      <td>0</td>\n",
       "    </tr>\n",
       "    <tr>\n",
       "      <th>1</th>\n",
       "      <td>0</td>\n",
       "      <td>0</td>\n",
       "      <td>0</td>\n",
       "      <td>0</td>\n",
       "      <td>0</td>\n",
       "      <td>0</td>\n",
       "      <td>0</td>\n",
       "      <td>0</td>\n",
       "      <td>0</td>\n",
       "      <td>0</td>\n",
       "      <td>...</td>\n",
       "      <td>0</td>\n",
       "      <td>0</td>\n",
       "      <td>0</td>\n",
       "      <td>0</td>\n",
       "      <td>0</td>\n",
       "      <td>0</td>\n",
       "      <td>0</td>\n",
       "      <td>0</td>\n",
       "      <td>1</td>\n",
       "      <td>0</td>\n",
       "    </tr>\n",
       "    <tr>\n",
       "      <th>2</th>\n",
       "      <td>0</td>\n",
       "      <td>0</td>\n",
       "      <td>0</td>\n",
       "      <td>0</td>\n",
       "      <td>0</td>\n",
       "      <td>0</td>\n",
       "      <td>0</td>\n",
       "      <td>0</td>\n",
       "      <td>0</td>\n",
       "      <td>0</td>\n",
       "      <td>...</td>\n",
       "      <td>0</td>\n",
       "      <td>0</td>\n",
       "      <td>0</td>\n",
       "      <td>0</td>\n",
       "      <td>0</td>\n",
       "      <td>0</td>\n",
       "      <td>0</td>\n",
       "      <td>0</td>\n",
       "      <td>1</td>\n",
       "      <td>0</td>\n",
       "    </tr>\n",
       "    <tr>\n",
       "      <th>3</th>\n",
       "      <td>0</td>\n",
       "      <td>0</td>\n",
       "      <td>0</td>\n",
       "      <td>0</td>\n",
       "      <td>0</td>\n",
       "      <td>0</td>\n",
       "      <td>0</td>\n",
       "      <td>0</td>\n",
       "      <td>0</td>\n",
       "      <td>0</td>\n",
       "      <td>...</td>\n",
       "      <td>0</td>\n",
       "      <td>0</td>\n",
       "      <td>0</td>\n",
       "      <td>0</td>\n",
       "      <td>0</td>\n",
       "      <td>0</td>\n",
       "      <td>0</td>\n",
       "      <td>0</td>\n",
       "      <td>1</td>\n",
       "      <td>0</td>\n",
       "    </tr>\n",
       "    <tr>\n",
       "      <th>4</th>\n",
       "      <td>0</td>\n",
       "      <td>0</td>\n",
       "      <td>0</td>\n",
       "      <td>0</td>\n",
       "      <td>0</td>\n",
       "      <td>0</td>\n",
       "      <td>0</td>\n",
       "      <td>0</td>\n",
       "      <td>0</td>\n",
       "      <td>0</td>\n",
       "      <td>...</td>\n",
       "      <td>0</td>\n",
       "      <td>0</td>\n",
       "      <td>0</td>\n",
       "      <td>0</td>\n",
       "      <td>0</td>\n",
       "      <td>0</td>\n",
       "      <td>0</td>\n",
       "      <td>0</td>\n",
       "      <td>1</td>\n",
       "      <td>0</td>\n",
       "    </tr>\n",
       "    <tr>\n",
       "      <th>...</th>\n",
       "      <td>...</td>\n",
       "      <td>...</td>\n",
       "      <td>...</td>\n",
       "      <td>...</td>\n",
       "      <td>...</td>\n",
       "      <td>...</td>\n",
       "      <td>...</td>\n",
       "      <td>...</td>\n",
       "      <td>...</td>\n",
       "      <td>...</td>\n",
       "      <td>...</td>\n",
       "      <td>...</td>\n",
       "      <td>...</td>\n",
       "      <td>...</td>\n",
       "      <td>...</td>\n",
       "      <td>...</td>\n",
       "      <td>...</td>\n",
       "      <td>...</td>\n",
       "      <td>...</td>\n",
       "      <td>...</td>\n",
       "      <td>...</td>\n",
       "    </tr>\n",
       "    <tr>\n",
       "      <th>2195</th>\n",
       "      <td>0</td>\n",
       "      <td>0</td>\n",
       "      <td>0</td>\n",
       "      <td>0</td>\n",
       "      <td>0</td>\n",
       "      <td>1</td>\n",
       "      <td>0</td>\n",
       "      <td>0</td>\n",
       "      <td>0</td>\n",
       "      <td>0</td>\n",
       "      <td>...</td>\n",
       "      <td>0</td>\n",
       "      <td>0</td>\n",
       "      <td>0</td>\n",
       "      <td>0</td>\n",
       "      <td>0</td>\n",
       "      <td>0</td>\n",
       "      <td>0</td>\n",
       "      <td>0</td>\n",
       "      <td>0</td>\n",
       "      <td>0</td>\n",
       "    </tr>\n",
       "    <tr>\n",
       "      <th>2196</th>\n",
       "      <td>0</td>\n",
       "      <td>0</td>\n",
       "      <td>0</td>\n",
       "      <td>0</td>\n",
       "      <td>0</td>\n",
       "      <td>1</td>\n",
       "      <td>0</td>\n",
       "      <td>0</td>\n",
       "      <td>0</td>\n",
       "      <td>0</td>\n",
       "      <td>...</td>\n",
       "      <td>0</td>\n",
       "      <td>0</td>\n",
       "      <td>0</td>\n",
       "      <td>0</td>\n",
       "      <td>0</td>\n",
       "      <td>0</td>\n",
       "      <td>0</td>\n",
       "      <td>0</td>\n",
       "      <td>0</td>\n",
       "      <td>0</td>\n",
       "    </tr>\n",
       "    <tr>\n",
       "      <th>2197</th>\n",
       "      <td>0</td>\n",
       "      <td>0</td>\n",
       "      <td>0</td>\n",
       "      <td>0</td>\n",
       "      <td>0</td>\n",
       "      <td>1</td>\n",
       "      <td>0</td>\n",
       "      <td>0</td>\n",
       "      <td>0</td>\n",
       "      <td>0</td>\n",
       "      <td>...</td>\n",
       "      <td>0</td>\n",
       "      <td>0</td>\n",
       "      <td>0</td>\n",
       "      <td>0</td>\n",
       "      <td>0</td>\n",
       "      <td>0</td>\n",
       "      <td>0</td>\n",
       "      <td>0</td>\n",
       "      <td>0</td>\n",
       "      <td>0</td>\n",
       "    </tr>\n",
       "    <tr>\n",
       "      <th>2198</th>\n",
       "      <td>0</td>\n",
       "      <td>0</td>\n",
       "      <td>0</td>\n",
       "      <td>0</td>\n",
       "      <td>0</td>\n",
       "      <td>1</td>\n",
       "      <td>0</td>\n",
       "      <td>0</td>\n",
       "      <td>0</td>\n",
       "      <td>0</td>\n",
       "      <td>...</td>\n",
       "      <td>0</td>\n",
       "      <td>0</td>\n",
       "      <td>0</td>\n",
       "      <td>0</td>\n",
       "      <td>0</td>\n",
       "      <td>0</td>\n",
       "      <td>0</td>\n",
       "      <td>0</td>\n",
       "      <td>0</td>\n",
       "      <td>0</td>\n",
       "    </tr>\n",
       "    <tr>\n",
       "      <th>2199</th>\n",
       "      <td>0</td>\n",
       "      <td>0</td>\n",
       "      <td>0</td>\n",
       "      <td>0</td>\n",
       "      <td>0</td>\n",
       "      <td>1</td>\n",
       "      <td>0</td>\n",
       "      <td>0</td>\n",
       "      <td>0</td>\n",
       "      <td>0</td>\n",
       "      <td>...</td>\n",
       "      <td>0</td>\n",
       "      <td>0</td>\n",
       "      <td>0</td>\n",
       "      <td>0</td>\n",
       "      <td>0</td>\n",
       "      <td>0</td>\n",
       "      <td>0</td>\n",
       "      <td>0</td>\n",
       "      <td>0</td>\n",
       "      <td>0</td>\n",
       "    </tr>\n",
       "  </tbody>\n",
       "</table>\n",
       "<p>2200 rows × 22 columns</p>\n",
       "</div>"
      ],
      "text/plain": [
       "      label_apple  label_banana  label_blackgram  label_chickpea  \\\n",
       "0               0             0                0               0   \n",
       "1               0             0                0               0   \n",
       "2               0             0                0               0   \n",
       "3               0             0                0               0   \n",
       "4               0             0                0               0   \n",
       "...           ...           ...              ...             ...   \n",
       "2195            0             0                0               0   \n",
       "2196            0             0                0               0   \n",
       "2197            0             0                0               0   \n",
       "2198            0             0                0               0   \n",
       "2199            0             0                0               0   \n",
       "\n",
       "      label_coconut  label_coffee  label_cotton  label_grapes  label_jute  \\\n",
       "0                 0             0             0             0           0   \n",
       "1                 0             0             0             0           0   \n",
       "2                 0             0             0             0           0   \n",
       "3                 0             0             0             0           0   \n",
       "4                 0             0             0             0           0   \n",
       "...             ...           ...           ...           ...         ...   \n",
       "2195              0             1             0             0           0   \n",
       "2196              0             1             0             0           0   \n",
       "2197              0             1             0             0           0   \n",
       "2198              0             1             0             0           0   \n",
       "2199              0             1             0             0           0   \n",
       "\n",
       "      label_kidneybeans  ...  label_mango  label_mothbeans  label_mungbean  \\\n",
       "0                     0  ...            0                0               0   \n",
       "1                     0  ...            0                0               0   \n",
       "2                     0  ...            0                0               0   \n",
       "3                     0  ...            0                0               0   \n",
       "4                     0  ...            0                0               0   \n",
       "...                 ...  ...          ...              ...             ...   \n",
       "2195                  0  ...            0                0               0   \n",
       "2196                  0  ...            0                0               0   \n",
       "2197                  0  ...            0                0               0   \n",
       "2198                  0  ...            0                0               0   \n",
       "2199                  0  ...            0                0               0   \n",
       "\n",
       "      label_muskmelon  label_orange  label_papaya  label_pigeonpeas  \\\n",
       "0                   0             0             0                 0   \n",
       "1                   0             0             0                 0   \n",
       "2                   0             0             0                 0   \n",
       "3                   0             0             0                 0   \n",
       "4                   0             0             0                 0   \n",
       "...               ...           ...           ...               ...   \n",
       "2195                0             0             0                 0   \n",
       "2196                0             0             0                 0   \n",
       "2197                0             0             0                 0   \n",
       "2198                0             0             0                 0   \n",
       "2199                0             0             0                 0   \n",
       "\n",
       "      label_pomegranate  label_rice  label_watermelon  \n",
       "0                     0           1                 0  \n",
       "1                     0           1                 0  \n",
       "2                     0           1                 0  \n",
       "3                     0           1                 0  \n",
       "4                     0           1                 0  \n",
       "...                 ...         ...               ...  \n",
       "2195                  0           0                 0  \n",
       "2196                  0           0                 0  \n",
       "2197                  0           0                 0  \n",
       "2198                  0           0                 0  \n",
       "2199                  0           0                 0  \n",
       "\n",
       "[2200 rows x 22 columns]"
      ]
     },
     "execution_count": 21,
     "metadata": {},
     "output_type": "execute_result"
    }
   ],
   "source": [
    "df['label'] = pd.Categorical(df['label'])\n",
    "dfDummiess = pd.get_dummies(df['label'], prefix = 'label')\n",
    "dfDummiess"
   ]
  },
  {
   "cell_type": "code",
   "execution_count": 22,
   "id": "e7c2db28",
   "metadata": {
    "execution": {
     "iopub.execute_input": "2023-03-27T13:49:31.306054Z",
     "iopub.status.busy": "2023-03-27T13:49:31.305604Z",
     "iopub.status.idle": "2023-03-27T13:49:31.314246Z",
     "shell.execute_reply": "2023-03-27T13:49:31.312407Z"
    },
    "id": "e7c2db28",
    "papermill": {
     "duration": 0.036953,
     "end_time": "2023-03-27T13:49:31.317261",
     "exception": false,
     "start_time": "2023-03-27T13:49:31.280308",
     "status": "completed"
    },
    "tags": []
   },
   "outputs": [],
   "source": [
    "df = pd.concat([df,dfDummiess], axis=1)\n",
    "df = df.drop([\"label\"], axis = 1)"
   ]
  },
  {
   "cell_type": "code",
   "execution_count": 23,
   "id": "8a84765e",
   "metadata": {
    "colab": {
     "base_uri": "https://localhost:8080/",
     "height": 255
    },
    "execution": {
     "iopub.execute_input": "2023-03-27T13:49:31.366640Z",
     "iopub.status.busy": "2023-03-27T13:49:31.366215Z",
     "iopub.status.idle": "2023-03-27T13:49:31.389483Z",
     "shell.execute_reply": "2023-03-27T13:49:31.388155Z"
    },
    "id": "8a84765e",
    "outputId": "096ad9b9-70c4-4a93-c1bc-ba66a959da33",
    "papermill": {
     "duration": 0.051257,
     "end_time": "2023-03-27T13:49:31.392309",
     "exception": false,
     "start_time": "2023-03-27T13:49:31.341052",
     "status": "completed"
    },
    "tags": []
   },
   "outputs": [
    {
     "data": {
      "text/html": [
       "<div>\n",
       "<style scoped>\n",
       "    .dataframe tbody tr th:only-of-type {\n",
       "        vertical-align: middle;\n",
       "    }\n",
       "\n",
       "    .dataframe tbody tr th {\n",
       "        vertical-align: top;\n",
       "    }\n",
       "\n",
       "    .dataframe thead th {\n",
       "        text-align: right;\n",
       "    }\n",
       "</style>\n",
       "<table border=\"1\" class=\"dataframe\">\n",
       "  <thead>\n",
       "    <tr style=\"text-align: right;\">\n",
       "      <th></th>\n",
       "      <th>Nitrogen</th>\n",
       "      <th>phosphorus</th>\n",
       "      <th>potassium</th>\n",
       "      <th>temperature</th>\n",
       "      <th>humidity</th>\n",
       "      <th>ph</th>\n",
       "      <th>rainfall</th>\n",
       "      <th>label_apple</th>\n",
       "      <th>label_banana</th>\n",
       "      <th>label_blackgram</th>\n",
       "      <th>...</th>\n",
       "      <th>label_mango</th>\n",
       "      <th>label_mothbeans</th>\n",
       "      <th>label_mungbean</th>\n",
       "      <th>label_muskmelon</th>\n",
       "      <th>label_orange</th>\n",
       "      <th>label_papaya</th>\n",
       "      <th>label_pigeonpeas</th>\n",
       "      <th>label_pomegranate</th>\n",
       "      <th>label_rice</th>\n",
       "      <th>label_watermelon</th>\n",
       "    </tr>\n",
       "  </thead>\n",
       "  <tbody>\n",
       "    <tr>\n",
       "      <th>0</th>\n",
       "      <td>90</td>\n",
       "      <td>42</td>\n",
       "      <td>43</td>\n",
       "      <td>20.879744</td>\n",
       "      <td>82.002744</td>\n",
       "      <td>6.502985</td>\n",
       "      <td>202.935536</td>\n",
       "      <td>0</td>\n",
       "      <td>0</td>\n",
       "      <td>0</td>\n",
       "      <td>...</td>\n",
       "      <td>0</td>\n",
       "      <td>0</td>\n",
       "      <td>0</td>\n",
       "      <td>0</td>\n",
       "      <td>0</td>\n",
       "      <td>0</td>\n",
       "      <td>0</td>\n",
       "      <td>0</td>\n",
       "      <td>1</td>\n",
       "      <td>0</td>\n",
       "    </tr>\n",
       "    <tr>\n",
       "      <th>1</th>\n",
       "      <td>85</td>\n",
       "      <td>58</td>\n",
       "      <td>41</td>\n",
       "      <td>21.770462</td>\n",
       "      <td>80.319644</td>\n",
       "      <td>7.038096</td>\n",
       "      <td>226.655537</td>\n",
       "      <td>0</td>\n",
       "      <td>0</td>\n",
       "      <td>0</td>\n",
       "      <td>...</td>\n",
       "      <td>0</td>\n",
       "      <td>0</td>\n",
       "      <td>0</td>\n",
       "      <td>0</td>\n",
       "      <td>0</td>\n",
       "      <td>0</td>\n",
       "      <td>0</td>\n",
       "      <td>0</td>\n",
       "      <td>1</td>\n",
       "      <td>0</td>\n",
       "    </tr>\n",
       "    <tr>\n",
       "      <th>2</th>\n",
       "      <td>60</td>\n",
       "      <td>55</td>\n",
       "      <td>44</td>\n",
       "      <td>23.004459</td>\n",
       "      <td>82.320763</td>\n",
       "      <td>7.840207</td>\n",
       "      <td>263.964248</td>\n",
       "      <td>0</td>\n",
       "      <td>0</td>\n",
       "      <td>0</td>\n",
       "      <td>...</td>\n",
       "      <td>0</td>\n",
       "      <td>0</td>\n",
       "      <td>0</td>\n",
       "      <td>0</td>\n",
       "      <td>0</td>\n",
       "      <td>0</td>\n",
       "      <td>0</td>\n",
       "      <td>0</td>\n",
       "      <td>1</td>\n",
       "      <td>0</td>\n",
       "    </tr>\n",
       "    <tr>\n",
       "      <th>3</th>\n",
       "      <td>74</td>\n",
       "      <td>35</td>\n",
       "      <td>40</td>\n",
       "      <td>26.491096</td>\n",
       "      <td>80.158363</td>\n",
       "      <td>6.980401</td>\n",
       "      <td>242.864034</td>\n",
       "      <td>0</td>\n",
       "      <td>0</td>\n",
       "      <td>0</td>\n",
       "      <td>...</td>\n",
       "      <td>0</td>\n",
       "      <td>0</td>\n",
       "      <td>0</td>\n",
       "      <td>0</td>\n",
       "      <td>0</td>\n",
       "      <td>0</td>\n",
       "      <td>0</td>\n",
       "      <td>0</td>\n",
       "      <td>1</td>\n",
       "      <td>0</td>\n",
       "    </tr>\n",
       "    <tr>\n",
       "      <th>4</th>\n",
       "      <td>78</td>\n",
       "      <td>42</td>\n",
       "      <td>42</td>\n",
       "      <td>20.130175</td>\n",
       "      <td>81.604873</td>\n",
       "      <td>7.628473</td>\n",
       "      <td>262.717340</td>\n",
       "      <td>0</td>\n",
       "      <td>0</td>\n",
       "      <td>0</td>\n",
       "      <td>...</td>\n",
       "      <td>0</td>\n",
       "      <td>0</td>\n",
       "      <td>0</td>\n",
       "      <td>0</td>\n",
       "      <td>0</td>\n",
       "      <td>0</td>\n",
       "      <td>0</td>\n",
       "      <td>0</td>\n",
       "      <td>1</td>\n",
       "      <td>0</td>\n",
       "    </tr>\n",
       "  </tbody>\n",
       "</table>\n",
       "<p>5 rows × 29 columns</p>\n",
       "</div>"
      ],
      "text/plain": [
       "   Nitrogen  phosphorus  potassium  temperature   humidity        ph  \\\n",
       "0        90          42         43    20.879744  82.002744  6.502985   \n",
       "1        85          58         41    21.770462  80.319644  7.038096   \n",
       "2        60          55         44    23.004459  82.320763  7.840207   \n",
       "3        74          35         40    26.491096  80.158363  6.980401   \n",
       "4        78          42         42    20.130175  81.604873  7.628473   \n",
       "\n",
       "     rainfall  label_apple  label_banana  label_blackgram  ...  label_mango  \\\n",
       "0  202.935536            0             0                0  ...            0   \n",
       "1  226.655537            0             0                0  ...            0   \n",
       "2  263.964248            0             0                0  ...            0   \n",
       "3  242.864034            0             0                0  ...            0   \n",
       "4  262.717340            0             0                0  ...            0   \n",
       "\n",
       "   label_mothbeans  label_mungbean  label_muskmelon  label_orange  \\\n",
       "0                0               0                0             0   \n",
       "1                0               0                0             0   \n",
       "2                0               0                0             0   \n",
       "3                0               0                0             0   \n",
       "4                0               0                0             0   \n",
       "\n",
       "   label_papaya  label_pigeonpeas  label_pomegranate  label_rice  \\\n",
       "0             0                 0                  0           1   \n",
       "1             0                 0                  0           1   \n",
       "2             0                 0                  0           1   \n",
       "3             0                 0                  0           1   \n",
       "4             0                 0                  0           1   \n",
       "\n",
       "   label_watermelon  \n",
       "0                 0  \n",
       "1                 0  \n",
       "2                 0  \n",
       "3                 0  \n",
       "4                 0  \n",
       "\n",
       "[5 rows x 29 columns]"
      ]
     },
     "execution_count": 23,
     "metadata": {},
     "output_type": "execute_result"
    }
   ],
   "source": [
    "df.head()"
   ]
  },
  {
   "cell_type": "code",
   "execution_count": 24,
   "id": "6873d2b8",
   "metadata": {
    "execution": {
     "iopub.execute_input": "2023-03-27T13:49:31.442194Z",
     "iopub.status.busy": "2023-03-27T13:49:31.441665Z",
     "iopub.status.idle": "2023-03-27T13:49:31.448520Z",
     "shell.execute_reply": "2023-03-27T13:49:31.447239Z"
    },
    "id": "6873d2b8",
    "papermill": {
     "duration": 0.035728,
     "end_time": "2023-03-27T13:49:31.451491",
     "exception": false,
     "start_time": "2023-03-27T13:49:31.415763",
     "status": "completed"
    },
    "tags": []
   },
   "outputs": [],
   "source": [
    "x=df.iloc[:,0:9].values\n",
    "y=df.iloc[:,9].values"
   ]
  },
  {
   "cell_type": "code",
   "execution_count": 25,
   "id": "fed668a6",
   "metadata": {
    "execution": {
     "iopub.execute_input": "2023-03-27T13:49:31.501546Z",
     "iopub.status.busy": "2023-03-27T13:49:31.501076Z",
     "iopub.status.idle": "2023-03-27T13:49:31.509628Z",
     "shell.execute_reply": "2023-03-27T13:49:31.508451Z"
    },
    "id": "fed668a6",
    "papermill": {
     "duration": 0.037699,
     "end_time": "2023-03-27T13:49:31.512269",
     "exception": false,
     "start_time": "2023-03-27T13:49:31.474570",
     "status": "completed"
    },
    "tags": []
   },
   "outputs": [],
   "source": [
    "x_train, x_test, y_train, y_test = train_test_split (x, y, test_size=0.15 , random_state=43)"
   ]
  },
  {
   "cell_type": "code",
   "execution_count": 26,
   "id": "cf843d8b",
   "metadata": {
    "execution": {
     "iopub.execute_input": "2023-03-27T13:49:31.574514Z",
     "iopub.status.busy": "2023-03-27T13:49:31.573864Z",
     "iopub.status.idle": "2023-03-27T13:49:31.581927Z",
     "shell.execute_reply": "2023-03-27T13:49:31.579914Z"
    },
    "id": "cf843d8b",
    "papermill": {
     "duration": 0.045233,
     "end_time": "2023-03-27T13:49:31.585597",
     "exception": false,
     "start_time": "2023-03-27T13:49:31.540364",
     "status": "completed"
    },
    "tags": []
   },
   "outputs": [],
   "source": [
    "model=RandomForestClassifier(random_state=0)"
   ]
  },
  {
   "cell_type": "code",
   "execution_count": 27,
   "id": "64227428",
   "metadata": {
    "colab": {
     "base_uri": "https://localhost:8080/",
     "height": 74
    },
    "execution": {
     "iopub.execute_input": "2023-03-27T13:49:31.646985Z",
     "iopub.status.busy": "2023-03-27T13:49:31.646499Z",
     "iopub.status.idle": "2023-03-27T13:49:31.912045Z",
     "shell.execute_reply": "2023-03-27T13:49:31.910407Z"
    },
    "id": "64227428",
    "outputId": "8c152b4d-f529-440a-b275-f6acaa207ce2",
    "papermill": {
     "duration": 0.295476,
     "end_time": "2023-03-27T13:49:31.914940",
     "exception": false,
     "start_time": "2023-03-27T13:49:31.619464",
     "status": "completed"
    },
    "tags": []
   },
   "outputs": [
    {
     "data": {
      "text/html": [
       "<style>#sk-container-id-1 {color: black;background-color: white;}#sk-container-id-1 pre{padding: 0;}#sk-container-id-1 div.sk-toggleable {background-color: white;}#sk-container-id-1 label.sk-toggleable__label {cursor: pointer;display: block;width: 100%;margin-bottom: 0;padding: 0.3em;box-sizing: border-box;text-align: center;}#sk-container-id-1 label.sk-toggleable__label-arrow:before {content: \"▸\";float: left;margin-right: 0.25em;color: #696969;}#sk-container-id-1 label.sk-toggleable__label-arrow:hover:before {color: black;}#sk-container-id-1 div.sk-estimator:hover label.sk-toggleable__label-arrow:before {color: black;}#sk-container-id-1 div.sk-toggleable__content {max-height: 0;max-width: 0;overflow: hidden;text-align: left;background-color: #f0f8ff;}#sk-container-id-1 div.sk-toggleable__content pre {margin: 0.2em;color: black;border-radius: 0.25em;background-color: #f0f8ff;}#sk-container-id-1 input.sk-toggleable__control:checked~div.sk-toggleable__content {max-height: 200px;max-width: 100%;overflow: auto;}#sk-container-id-1 input.sk-toggleable__control:checked~label.sk-toggleable__label-arrow:before {content: \"▾\";}#sk-container-id-1 div.sk-estimator input.sk-toggleable__control:checked~label.sk-toggleable__label {background-color: #d4ebff;}#sk-container-id-1 div.sk-label input.sk-toggleable__control:checked~label.sk-toggleable__label {background-color: #d4ebff;}#sk-container-id-1 input.sk-hidden--visually {border: 0;clip: rect(1px 1px 1px 1px);clip: rect(1px, 1px, 1px, 1px);height: 1px;margin: -1px;overflow: hidden;padding: 0;position: absolute;width: 1px;}#sk-container-id-1 div.sk-estimator {font-family: monospace;background-color: #f0f8ff;border: 1px dotted black;border-radius: 0.25em;box-sizing: border-box;margin-bottom: 0.5em;}#sk-container-id-1 div.sk-estimator:hover {background-color: #d4ebff;}#sk-container-id-1 div.sk-parallel-item::after {content: \"\";width: 100%;border-bottom: 1px solid gray;flex-grow: 1;}#sk-container-id-1 div.sk-label:hover label.sk-toggleable__label {background-color: #d4ebff;}#sk-container-id-1 div.sk-serial::before {content: \"\";position: absolute;border-left: 1px solid gray;box-sizing: border-box;top: 0;bottom: 0;left: 50%;z-index: 0;}#sk-container-id-1 div.sk-serial {display: flex;flex-direction: column;align-items: center;background-color: white;padding-right: 0.2em;padding-left: 0.2em;position: relative;}#sk-container-id-1 div.sk-item {position: relative;z-index: 1;}#sk-container-id-1 div.sk-parallel {display: flex;align-items: stretch;justify-content: center;background-color: white;position: relative;}#sk-container-id-1 div.sk-item::before, #sk-container-id-1 div.sk-parallel-item::before {content: \"\";position: absolute;border-left: 1px solid gray;box-sizing: border-box;top: 0;bottom: 0;left: 50%;z-index: -1;}#sk-container-id-1 div.sk-parallel-item {display: flex;flex-direction: column;z-index: 1;position: relative;background-color: white;}#sk-container-id-1 div.sk-parallel-item:first-child::after {align-self: flex-end;width: 50%;}#sk-container-id-1 div.sk-parallel-item:last-child::after {align-self: flex-start;width: 50%;}#sk-container-id-1 div.sk-parallel-item:only-child::after {width: 0;}#sk-container-id-1 div.sk-dashed-wrapped {border: 1px dashed gray;margin: 0 0.4em 0.5em 0.4em;box-sizing: border-box;padding-bottom: 0.4em;background-color: white;}#sk-container-id-1 div.sk-label label {font-family: monospace;font-weight: bold;display: inline-block;line-height: 1.2em;}#sk-container-id-1 div.sk-label-container {text-align: center;}#sk-container-id-1 div.sk-container {/* jupyter's `normalize.less` sets `[hidden] { display: none; }` but bootstrap.min.css set `[hidden] { display: none !important; }` so we also need the `!important` here to be able to override the default hidden behavior on the sphinx rendered scikit-learn.org. See: https://github.com/scikit-learn/scikit-learn/issues/21755 */display: inline-block !important;position: relative;}#sk-container-id-1 div.sk-text-repr-fallback {display: none;}</style><div id=\"sk-container-id-1\" class=\"sk-top-container\"><div class=\"sk-text-repr-fallback\"><pre>RandomForestClassifier(random_state=0)</pre><b>In a Jupyter environment, please rerun this cell to show the HTML representation or trust the notebook. <br />On GitHub, the HTML representation is unable to render, please try loading this page with nbviewer.org.</b></div><div class=\"sk-container\" hidden><div class=\"sk-item\"><div class=\"sk-estimator sk-toggleable\"><input class=\"sk-toggleable__control sk-hidden--visually\" id=\"sk-estimator-id-1\" type=\"checkbox\" checked><label for=\"sk-estimator-id-1\" class=\"sk-toggleable__label sk-toggleable__label-arrow\">RandomForestClassifier</label><div class=\"sk-toggleable__content\"><pre>RandomForestClassifier(random_state=0)</pre></div></div></div></div></div>"
      ],
      "text/plain": [
       "RandomForestClassifier(random_state=0)"
      ]
     },
     "execution_count": 27,
     "metadata": {},
     "output_type": "execute_result"
    }
   ],
   "source": [
    "model.fit(x_train, y_train)"
   ]
  },
  {
   "cell_type": "code",
   "execution_count": 28,
   "id": "3c2ec1c1",
   "metadata": {
    "execution": {
     "iopub.execute_input": "2023-03-27T13:49:31.964173Z",
     "iopub.status.busy": "2023-03-27T13:49:31.963686Z",
     "iopub.status.idle": "2023-03-27T13:49:31.985439Z",
     "shell.execute_reply": "2023-03-27T13:49:31.984085Z"
    },
    "id": "3c2ec1c1",
    "papermill": {
     "duration": 0.049984,
     "end_time": "2023-03-27T13:49:31.988436",
     "exception": false,
     "start_time": "2023-03-27T13:49:31.938452",
     "status": "completed"
    },
    "tags": []
   },
   "outputs": [],
   "source": [
    "y_pred=model.predict(x_test)"
   ]
  },
  {
   "cell_type": "code",
   "execution_count": 29,
   "id": "e2815985",
   "metadata": {
    "colab": {
     "base_uri": "https://localhost:8080/"
    },
    "execution": {
     "iopub.execute_input": "2023-03-27T13:49:32.038001Z",
     "iopub.status.busy": "2023-03-27T13:49:32.037530Z",
     "iopub.status.idle": "2023-03-27T13:49:32.048392Z",
     "shell.execute_reply": "2023-03-27T13:49:32.046368Z"
    },
    "id": "e2815985",
    "outputId": "76be2487-4511-4933-f242-684d8642c92b",
    "papermill": {
     "duration": 0.041788,
     "end_time": "2023-03-27T13:49:32.053460",
     "exception": false,
     "start_time": "2023-03-27T13:49:32.011672",
     "status": "completed"
    },
    "tags": []
   },
   "outputs": [
    {
     "name": "stdout",
     "output_type": "stream",
     "text": [
      "[[313   1]\n",
      " [  0  16]]\n"
     ]
    }
   ],
   "source": [
    "cm=confusion_matrix(y_pred, y_test)\n",
    "print(cm)"
   ]
  },
  {
   "cell_type": "code",
   "execution_count": 30,
   "id": "811ea0b7",
   "metadata": {
    "colab": {
     "base_uri": "https://localhost:8080/"
    },
    "execution": {
     "iopub.execute_input": "2023-03-27T13:49:32.103111Z",
     "iopub.status.busy": "2023-03-27T13:49:32.102668Z",
     "iopub.status.idle": "2023-03-27T13:49:32.108880Z",
     "shell.execute_reply": "2023-03-27T13:49:32.107861Z"
    },
    "id": "811ea0b7",
    "outputId": "4fff9537-fac7-4893-81a8-a8bddb498616",
    "papermill": {
     "duration": 0.0351,
     "end_time": "2023-03-27T13:49:32.112413",
     "exception": false,
     "start_time": "2023-03-27T13:49:32.077313",
     "status": "completed"
    },
    "tags": []
   },
   "outputs": [
    {
     "name": "stdout",
     "output_type": "stream",
     "text": [
      "0.996969696969697\n"
     ]
    }
   ],
   "source": [
    "accuracy=accuracy_score(y_test, y_pred)\n",
    "print(accuracy)"
   ]
  },
  {
   "cell_type": "code",
   "execution_count": 31,
   "id": "90dcc700",
   "metadata": {
    "colab": {
     "base_uri": "https://localhost:8080/",
     "height": 447
    },
    "execution": {
     "iopub.execute_input": "2023-03-27T13:49:32.167826Z",
     "iopub.status.busy": "2023-03-27T13:49:32.167396Z",
     "iopub.status.idle": "2023-03-27T13:49:32.455679Z",
     "shell.execute_reply": "2023-03-27T13:49:32.454427Z"
    },
    "id": "90dcc700",
    "outputId": "9792866b-7de5-44ce-814f-23f8161418cd",
    "papermill": {
     "duration": 0.320012,
     "end_time": "2023-03-27T13:49:32.458363",
     "exception": false,
     "start_time": "2023-03-27T13:49:32.138351",
     "status": "completed"
    },
    "tags": []
   },
   "outputs": [
    {
     "data": {
      "text/plain": [
       "<AxesSubplot:>"
      ]
     },
     "execution_count": 31,
     "metadata": {},
     "output_type": "execute_result"
    },
    {
     "data": {
      "image/png": "[encoded data removed]",
      "text/plain": [
       "<Figure size 640x480 with 2 Axes>"
      ]
     },
     "metadata": {},
     "output_type": "display_data"
    }
   ],
   "source": [
    "sns.heatmap(confusion_matrix(y_test, y_pred), annot=True)"
   ]
  },
  {
   "cell_type": "code",
   "execution_count": 32,
   "id": "f4689ad4",
   "metadata": {
    "colab": {
     "base_uri": "https://localhost:8080/"
    },
    "execution": {
     "iopub.execute_input": "2023-03-27T13:49:32.511305Z",
     "iopub.status.busy": "2023-03-27T13:49:32.510691Z",
     "iopub.status.idle": "2023-03-27T13:49:32.525099Z",
     "shell.execute_reply": "2023-03-27T13:49:32.523198Z"
    },
    "id": "f4689ad4",
    "outputId": "430b18ae-4125-41c1-bc57-b407a6886a0f",
    "papermill": {
     "duration": 0.04639,
     "end_time": "2023-03-27T13:49:32.529802",
     "exception": false,
     "start_time": "2023-03-27T13:49:32.483412",
     "status": "completed"
    },
    "tags": []
   },
   "outputs": [
    {
     "name": "stdout",
     "output_type": "stream",
     "text": [
      "              precision    recall  f1-score   support\n",
      "\n",
      "           0       1.00      1.00      1.00       313\n",
      "           1       1.00      0.94      0.97        17\n",
      "\n",
      "    accuracy                           1.00       330\n",
      "   macro avg       1.00      0.97      0.98       330\n",
      "weighted avg       1.00      1.00      1.00       330\n",
      "\n"
     ]
    }
   ],
   "source": [
    "print(classification_report(y_test, y_pred))"
   ]
  },
  {
   "cell_type": "code",
   "execution_count": 33,
   "id": "98980cf7",
   "metadata": {
    "execution": {
     "iopub.execute_input": "2023-03-27T13:49:32.583541Z",
     "iopub.status.busy": "2023-03-27T13:49:32.582719Z",
     "iopub.status.idle": "2023-03-27T13:49:32.589743Z",
     "shell.execute_reply": "2023-03-27T13:49:32.588393Z"
    },
    "id": "98980cf7",
    "papermill": {
     "duration": 0.036476,
     "end_time": "2023-03-27T13:49:32.592677",
     "exception": false,
     "start_time": "2023-03-27T13:49:32.556201",
     "status": "completed"
    },
    "tags": []
   },
   "outputs": [],
   "source": [
    "ex=ExtraTreesClassifier()"
   ]
  },
  {
   "cell_type": "code",
   "execution_count": 34,
   "id": "b558453f",
   "metadata": {
    "colab": {
     "base_uri": "https://localhost:8080/",
     "height": 74
    },
    "execution": {
     "iopub.execute_input": "2023-03-27T13:49:32.644247Z",
     "iopub.status.busy": "2023-03-27T13:49:32.643423Z",
     "iopub.status.idle": "2023-03-27T13:49:32.815044Z",
     "shell.execute_reply": "2023-03-27T13:49:32.813835Z"
    },
    "id": "b558453f",
    "outputId": "368b2ada-0370-4e70-c137-1d8f3b2c2cb4",
    "papermill": {
     "duration": 0.200867,
     "end_time": "2023-03-27T13:49:32.817979",
     "exception": false,
     "start_time": "2023-03-27T13:49:32.617112",
     "status": "completed"
    },
    "tags": []
   },
   "outputs": [
    {
     "data": {
      "text/html": [
       "<style>#sk-container-id-2 {color: black;background-color: white;}#sk-container-id-2 pre{padding: 0;}#sk-container-id-2 div.sk-toggleable {background-color: white;}#sk-container-id-2 label.sk-toggleable__label {cursor: pointer;display: block;width: 100%;margin-bottom: 0;padding: 0.3em;box-sizing: border-box;text-align: center;}#sk-container-id-2 label.sk-toggleable__label-arrow:before {content: \"▸\";float: left;margin-right: 0.25em;color: #696969;}#sk-container-id-2 label.sk-toggleable__label-arrow:hover:before {color: black;}#sk-container-id-2 div.sk-estimator:hover label.sk-toggleable__label-arrow:before {color: black;}#sk-container-id-2 div.sk-toggleable__content {max-height: 0;max-width: 0;overflow: hidden;text-align: left;background-color: #f0f8ff;}#sk-container-id-2 div.sk-toggleable__content pre {margin: 0.2em;color: black;border-radius: 0.25em;background-color: #f0f8ff;}#sk-container-id-2 input.sk-toggleable__control:checked~div.sk-toggleable__content {max-height: 200px;max-width: 100%;overflow: auto;}#sk-container-id-2 input.sk-toggleable__control:checked~label.sk-toggleable__label-arrow:before {content: \"▾\";}#sk-container-id-2 div.sk-estimator input.sk-toggleable__control:checked~label.sk-toggleable__label {background-color: #d4ebff;}#sk-container-id-2 div.sk-label input.sk-toggleable__control:checked~label.sk-toggleable__label {background-color: #d4ebff;}#sk-container-id-2 input.sk-hidden--visually {border: 0;clip: rect(1px 1px 1px 1px);clip: rect(1px, 1px, 1px, 1px);height: 1px;margin: -1px;overflow: hidden;padding: 0;position: absolute;width: 1px;}#sk-container-id-2 div.sk-estimator {font-family: monospace;background-color: #f0f8ff;border: 1px dotted black;border-radius: 0.25em;box-sizing: border-box;margin-bottom: 0.5em;}#sk-container-id-2 div.sk-estimator:hover {background-color: #d4ebff;}#sk-container-id-2 div.sk-parallel-item::after {content: \"\";width: 100%;border-bottom: 1px solid gray;flex-grow: 1;}#sk-container-id-2 div.sk-label:hover label.sk-toggleable__label {background-color: #d4ebff;}#sk-container-id-2 div.sk-serial::before {content: \"\";position: absolute;border-left: 1px solid gray;box-sizing: border-box;top: 0;bottom: 0;left: 50%;z-index: 0;}#sk-container-id-2 div.sk-serial {display: flex;flex-direction: column;align-items: center;background-color: white;padding-right: 0.2em;padding-left: 0.2em;position: relative;}#sk-container-id-2 div.sk-item {position: relative;z-index: 1;}#sk-container-id-2 div.sk-parallel {display: flex;align-items: stretch;justify-content: center;background-color: white;position: relative;}#sk-container-id-2 div.sk-item::before, #sk-container-id-2 div.sk-parallel-item::before {content: \"\";position: absolute;border-left: 1px solid gray;box-sizing: border-box;top: 0;bottom: 0;left: 50%;z-index: -1;}#sk-container-id-2 div.sk-parallel-item {display: flex;flex-direction: column;z-index: 1;position: relative;background-color: white;}#sk-container-id-2 div.sk-parallel-item:first-child::after {align-self: flex-end;width: 50%;}#sk-container-id-2 div.sk-parallel-item:last-child::after {align-self: flex-start;width: 50%;}#sk-container-id-2 div.sk-parallel-item:only-child::after {width: 0;}#sk-container-id-2 div.sk-dashed-wrapped {border: 1px dashed gray;margin: 0 0.4em 0.5em 0.4em;box-sizing: border-box;padding-bottom: 0.4em;background-color: white;}#sk-container-id-2 div.sk-label label {font-family: monospace;font-weight: bold;display: inline-block;line-height: 1.2em;}#sk-container-id-2 div.sk-label-container {text-align: center;}#sk-container-id-2 div.sk-container {/* jupyter's `normalize.less` sets `[hidden] { display: none; }` but bootstrap.min.css set `[hidden] { display: none !important; }` so we also need the `!important` here to be able to override the default hidden behavior on the sphinx rendered scikit-learn.org. See: https://github.com/scikit-learn/scikit-learn/issues/21755 */display: inline-block !important;position: relative;}#sk-container-id-2 div.sk-text-repr-fallback {display: none;}</style><div id=\"sk-container-id-2\" class=\"sk-top-container\"><div class=\"sk-text-repr-fallback\"><pre>ExtraTreesClassifier()</pre><b>In a Jupyter environment, please rerun this cell to show the HTML representation or trust the notebook. <br />On GitHub, the HTML representation is unable to render, please try loading this page with nbviewer.org.</b></div><div class=\"sk-container\" hidden><div class=\"sk-item\"><div class=\"sk-estimator sk-toggleable\"><input class=\"sk-toggleable__control sk-hidden--visually\" id=\"sk-estimator-id-2\" type=\"checkbox\" checked><label for=\"sk-estimator-id-2\" class=\"sk-toggleable__label sk-toggleable__label-arrow\">ExtraTreesClassifier</label><div class=\"sk-toggleable__content\"><pre>ExtraTreesClassifier()</pre></div></div></div></div></div>"
      ],
      "text/plain": [
       "ExtraTreesClassifier()"
      ]
     },
     "execution_count": 34,
     "metadata": {},
     "output_type": "execute_result"
    }
   ],
   "source": [
    "ex.fit(x_train, y_train)"
   ]
  },
  {
   "cell_type": "code",
   "execution_count": 35,
   "id": "5579c57b",
   "metadata": {
    "execution": {
     "iopub.execute_input": "2023-03-27T13:49:32.868932Z",
     "iopub.status.busy": "2023-03-27T13:49:32.868471Z",
     "iopub.status.idle": "2023-03-27T13:49:32.892101Z",
     "shell.execute_reply": "2023-03-27T13:49:32.890809Z"
    },
    "id": "5579c57b",
    "papermill": {
     "duration": 0.053295,
     "end_time": "2023-03-27T13:49:32.895322",
     "exception": false,
     "start_time": "2023-03-27T13:49:32.842027",
     "status": "completed"
    },
    "tags": []
   },
   "outputs": [],
   "source": [
    "y_pred=ex.predict(x_test)"
   ]
  },
  {
   "cell_type": "code",
   "execution_count": 36,
   "id": "317cb3a2",
   "metadata": {
    "colab": {
     "base_uri": "https://localhost:8080/"
    },
    "execution": {
     "iopub.execute_input": "2023-03-27T13:49:32.948128Z",
     "iopub.status.busy": "2023-03-27T13:49:32.947621Z",
     "iopub.status.idle": "2023-03-27T13:49:32.954356Z",
     "shell.execute_reply": "2023-03-27T13:49:32.952943Z"
    },
    "id": "317cb3a2",
    "outputId": "9848325c-5807-4fec-c81d-9212a27d507d",
    "papermill": {
     "duration": 0.037089,
     "end_time": "2023-03-27T13:49:32.957644",
     "exception": false,
     "start_time": "2023-03-27T13:49:32.920555",
     "status": "completed"
    },
    "tags": []
   },
   "outputs": [
    {
     "name": "stdout",
     "output_type": "stream",
     "text": [
      "[[313   1]\n",
      " [  0  16]]\n"
     ]
    }
   ],
   "source": [
    "cm=confusion_matrix(y_pred, y_test)\n",
    "print(cm)"
   ]
  },
  {
   "cell_type": "code",
   "execution_count": 37,
   "id": "0464c3fb",
   "metadata": {
    "colab": {
     "base_uri": "https://localhost:8080/",
     "height": 447
    },
    "execution": {
     "iopub.execute_input": "2023-03-27T13:49:33.012312Z",
     "iopub.status.busy": "2023-03-27T13:49:33.011833Z",
     "iopub.status.idle": "2023-03-27T13:49:33.291224Z",
     "shell.execute_reply": "2023-03-27T13:49:33.290182Z"
    },
    "id": "0464c3fb",
    "outputId": "4e0a3d8b-5865-4f2b-d73d-7f065ba54a05",
    "papermill": {
     "duration": 0.309447,
     "end_time": "2023-03-27T13:49:33.293613",
     "exception": false,
     "start_time": "2023-03-27T13:49:32.984166",
     "status": "completed"
    },
    "tags": []
   },
   "outputs": [
    {
     "data": {
      "text/plain": [
       "<AxesSubplot:>"
      ]
     },
     "execution_count": 37,
     "metadata": {},
     "output_type": "execute_result"
    },
    {
     "data": {
      "image/png": "[encoded data removed]",
      "text/plain": [
       "<Figure size 640x480 with 2 Axes>"
      ]
     },
     "metadata": {},
     "output_type": "display_data"
    }
   ],
   "source": [
    "sns.heatmap(confusion_matrix(y_test, y_pred), annot=True)"
   ]
  },
  {
   "cell_type": "code",
   "execution_count": 38,
   "id": "d8f0145a",
   "metadata": {
    "colab": {
     "base_uri": "https://localhost:8080/"
    },
    "execution": {
     "iopub.execute_input": "2023-03-27T13:49:33.347189Z",
     "iopub.status.busy": "2023-03-27T13:49:33.346683Z",
     "iopub.status.idle": "2023-03-27T13:49:33.354695Z",
     "shell.execute_reply": "2023-03-27T13:49:33.353249Z"
    },
    "id": "d8f0145a",
    "outputId": "844f34d4-f131-4800-f49d-05e91aaae1b3",
    "papermill": {
     "duration": 0.03904,
     "end_time": "2023-03-27T13:49:33.358611",
     "exception": false,
     "start_time": "2023-03-27T13:49:33.319571",
     "status": "completed"
    },
    "tags": []
   },
   "outputs": [
    {
     "name": "stdout",
     "output_type": "stream",
     "text": [
      "0.996969696969697\n"
     ]
    }
   ],
   "source": [
    "accuracy=accuracy_score(y_test, y_pred)\n",
    "print(accuracy)"
   ]
  },
  {
   "cell_type": "code",
   "execution_count": 39,
   "id": "a643ba82",
   "metadata": {
    "colab": {
     "base_uri": "https://localhost:8080/"
    },
    "execution": {
     "iopub.execute_input": "2023-03-27T13:49:33.411559Z",
     "iopub.status.busy": "2023-03-27T13:49:33.410299Z",
     "iopub.status.idle": "2023-03-27T13:49:33.423771Z",
     "shell.execute_reply": "2023-03-27T13:49:33.422395Z"
    },
    "id": "a643ba82",
    "outputId": "238448de-42f3-45ac-e7e5-7d8bfe3683ee",
    "papermill": {
     "duration": 0.043343,
     "end_time": "2023-03-27T13:49:33.426879",
     "exception": false,
     "start_time": "2023-03-27T13:49:33.383536",
     "status": "completed"
    },
    "tags": []
   },
   "outputs": [
    {
     "name": "stdout",
     "output_type": "stream",
     "text": [
      "              precision    recall  f1-score   support\n",
      "\n",
      "           0       1.00      1.00      1.00       314\n",
      "           1       0.94      1.00      0.97        16\n",
      "\n",
      "    accuracy                           1.00       330\n",
      "   macro avg       0.97      1.00      0.98       330\n",
      "weighted avg       1.00      1.00      1.00       330\n",
      "\n"
     ]
    }
   ],
   "source": [
    "print(classification_report(y_pred, y_test))"
   ]
  },
  {
   "cell_type": "code",
   "execution_count": 40,
   "id": "eb7d2a61",
   "metadata": {
    "execution": {
     "iopub.execute_input": "2023-03-27T13:49:33.480542Z",
     "iopub.status.busy": "2023-03-27T13:49:33.479658Z",
     "iopub.status.idle": "2023-03-27T13:49:33.485793Z",
     "shell.execute_reply": "2023-03-27T13:49:33.484418Z"
    },
    "id": "eb7d2a61",
    "papermill": {
     "duration": 0.035596,
     "end_time": "2023-03-27T13:49:33.488752",
     "exception": false,
     "start_time": "2023-03-27T13:49:33.453156",
     "status": "completed"
    },
    "tags": []
   },
   "outputs": [],
   "source": [
    "knn=KNeighborsClassifier(n_neighbors=3)"
   ]
  },
  {
   "cell_type": "code",
   "execution_count": 41,
   "id": "8971559e",
   "metadata": {
    "colab": {
     "base_uri": "https://localhost:8080/",
     "height": 74
    },
    "execution": {
     "iopub.execute_input": "2023-03-27T13:49:33.543210Z",
     "iopub.status.busy": "2023-03-27T13:49:33.542709Z",
     "iopub.status.idle": "2023-03-27T13:49:33.554250Z",
     "shell.execute_reply": "2023-03-27T13:49:33.553198Z"
    },
    "id": "8971559e",
    "outputId": "ef1b2550-9b1e-4e5a-e602-a8cd2f183560",
    "papermill": {
     "duration": 0.041834,
     "end_time": "2023-03-27T13:49:33.556825",
     "exception": false,
     "start_time": "2023-03-27T13:49:33.514991",
     "status": "completed"
    },
    "tags": []
   },
   "outputs": [
    {
     "data": {
      "text/html": [
       "<style>#sk-container-id-3 {color: black;background-color: white;}#sk-container-id-3 pre{padding: 0;}#sk-container-id-3 div.sk-toggleable {background-color: white;}#sk-container-id-3 label.sk-toggleable__label {cursor: pointer;display: block;width: 100%;margin-bottom: 0;padding: 0.3em;box-sizing: border-box;text-align: center;}#sk-container-id-3 label.sk-toggleable__label-arrow:before {content: \"▸\";float: left;margin-right: 0.25em;color: #696969;}#sk-container-id-3 label.sk-toggleable__label-arrow:hover:before {color: black;}#sk-container-id-3 div.sk-estimator:hover label.sk-toggleable__label-arrow:before {color: black;}#sk-container-id-3 div.sk-toggleable__content {max-height: 0;max-width: 0;overflow: hidden;text-align: left;background-color: #f0f8ff;}#sk-container-id-3 div.sk-toggleable__content pre {margin: 0.2em;color: black;border-radius: 0.25em;background-color: #f0f8ff;}#sk-container-id-3 input.sk-toggleable__control:checked~div.sk-toggleable__content {max-height: 200px;max-width: 100%;overflow: auto;}#sk-container-id-3 input.sk-toggleable__control:checked~label.sk-toggleable__label-arrow:before {content: \"▾\";}#sk-container-id-3 div.sk-estimator input.sk-toggleable__control:checked~label.sk-toggleable__label {background-color: #d4ebff;}#sk-container-id-3 div.sk-label input.sk-toggleable__control:checked~label.sk-toggleable__label {background-color: #d4ebff;}#sk-container-id-3 input.sk-hidden--visually {border: 0;clip: rect(1px 1px 1px 1px);clip: rect(1px, 1px, 1px, 1px);height: 1px;margin: -1px;overflow: hidden;padding: 0;position: absolute;width: 1px;}#sk-container-id-3 div.sk-estimator {font-family: monospace;background-color: #f0f8ff;border: 1px dotted black;border-radius: 0.25em;box-sizing: border-box;margin-bottom: 0.5em;}#sk-container-id-3 div.sk-estimator:hover {background-color: #d4ebff;}#sk-container-id-3 div.sk-parallel-item::after {content: \"\";width: 100%;border-bottom: 1px solid gray;flex-grow: 1;}#sk-container-id-3 div.sk-label:hover label.sk-toggleable__label {background-color: #d4ebff;}#sk-container-id-3 div.sk-serial::before {content: \"\";position: absolute;border-left: 1px solid gray;box-sizing: border-box;top: 0;bottom: 0;left: 50%;z-index: 0;}#sk-container-id-3 div.sk-serial {display: flex;flex-direction: column;align-items: center;background-color: white;padding-right: 0.2em;padding-left: 0.2em;position: relative;}#sk-container-id-3 div.sk-item {position: relative;z-index: 1;}#sk-container-id-3 div.sk-parallel {display: flex;align-items: stretch;justify-content: center;background-color: white;position: relative;}#sk-container-id-3 div.sk-item::before, #sk-container-id-3 div.sk-parallel-item::before {content: \"\";position: absolute;border-left: 1px solid gray;box-sizing: border-box;top: 0;bottom: 0;left: 50%;z-index: -1;}#sk-container-id-3 div.sk-parallel-item {display: flex;flex-direction: column;z-index: 1;position: relative;background-color: white;}#sk-container-id-3 div.sk-parallel-item:first-child::after {align-self: flex-end;width: 50%;}#sk-container-id-3 div.sk-parallel-item:last-child::after {align-self: flex-start;width: 50%;}#sk-container-id-3 div.sk-parallel-item:only-child::after {width: 0;}#sk-container-id-3 div.sk-dashed-wrapped {border: 1px dashed gray;margin: 0 0.4em 0.5em 0.4em;box-sizing: border-box;padding-bottom: 0.4em;background-color: white;}#sk-container-id-3 div.sk-label label {font-family: monospace;font-weight: bold;display: inline-block;line-height: 1.2em;}#sk-container-id-3 div.sk-label-container {text-align: center;}#sk-container-id-3 div.sk-container {/* jupyter's `normalize.less` sets `[hidden] { display: none; }` but bootstrap.min.css set `[hidden] { display: none !important; }` so we also need the `!important` here to be able to override the default hidden behavior on the sphinx rendered scikit-learn.org. See: https://github.com/scikit-learn/scikit-learn/issues/21755 */display: inline-block !important;position: relative;}#sk-container-id-3 div.sk-text-repr-fallback {display: none;}</style><div id=\"sk-container-id-3\" class=\"sk-top-container\"><div class=\"sk-text-repr-fallback\"><pre>KNeighborsClassifier(n_neighbors=3)</pre><b>In a Jupyter environment, please rerun this cell to show the HTML representation or trust the notebook. <br />On GitHub, the HTML representation is unable to render, please try loading this page with nbviewer.org.</b></div><div class=\"sk-container\" hidden><div class=\"sk-item\"><div class=\"sk-estimator sk-toggleable\"><input class=\"sk-toggleable__control sk-hidden--visually\" id=\"sk-estimator-id-3\" type=\"checkbox\" checked><label for=\"sk-estimator-id-3\" class=\"sk-toggleable__label sk-toggleable__label-arrow\">KNeighborsClassifier</label><div class=\"sk-toggleable__content\"><pre>KNeighborsClassifier(n_neighbors=3)</pre></div></div></div></div></div>"
      ],
      "text/plain": [
       "KNeighborsClassifier(n_neighbors=3)"
      ]
     },
     "execution_count": 41,
     "metadata": {},
     "output_type": "execute_result"
    }
   ],
   "source": [
    "knn.fit(x_train, y_train)"
   ]
  },
  {
   "cell_type": "code",
   "execution_count": 42,
   "id": "e7bd10bc",
   "metadata": {
    "execution": {
     "iopub.execute_input": "2023-03-27T13:49:33.608895Z",
     "iopub.status.busy": "2023-03-27T13:49:33.608491Z",
     "iopub.status.idle": "2023-03-27T13:49:33.626782Z",
     "shell.execute_reply": "2023-03-27T13:49:33.625454Z"
    },
    "id": "e7bd10bc",
    "papermill": {
     "duration": 0.047651,
     "end_time": "2023-03-27T13:49:33.630045",
     "exception": false,
     "start_time": "2023-03-27T13:49:33.582394",
     "status": "completed"
    },
    "tags": []
   },
   "outputs": [],
   "source": [
    "y_pred=knn.predict(x_test)"
   ]
  },
  {
   "cell_type": "code",
   "execution_count": 43,
   "id": "6492351e",
   "metadata": {
    "colab": {
     "base_uri": "https://localhost:8080/"
    },
    "execution": {
     "iopub.execute_input": "2023-03-27T13:49:33.683866Z",
     "iopub.status.busy": "2023-03-27T13:49:33.683453Z",
     "iopub.status.idle": "2023-03-27T13:49:33.692801Z",
     "shell.execute_reply": "2023-03-27T13:49:33.691047Z"
    },
    "id": "6492351e",
    "outputId": "a9d8783f-7dd9-4bd4-df6f-433380b8cbcc",
    "papermill": {
     "duration": 0.039019,
     "end_time": "2023-03-27T13:49:33.696075",
     "exception": false,
     "start_time": "2023-03-27T13:49:33.657056",
     "status": "completed"
    },
    "tags": []
   },
   "outputs": [
    {
     "name": "stdout",
     "output_type": "stream",
     "text": [
      "[[313   0]\n",
      " [  0  17]]\n"
     ]
    }
   ],
   "source": [
    "cm=confusion_matrix(y_pred, y_test)\n",
    "print(cm)"
   ]
  },
  {
   "cell_type": "code",
   "execution_count": 44,
   "id": "0474c573",
   "metadata": {
    "colab": {
     "base_uri": "https://localhost:8080/",
     "height": 447
    },
    "execution": {
     "iopub.execute_input": "2023-03-27T13:49:33.748048Z",
     "iopub.status.busy": "2023-03-27T13:49:33.747602Z",
     "iopub.status.idle": "2023-03-27T13:49:34.024582Z",
     "shell.execute_reply": "2023-03-27T13:49:34.023253Z"
    },
    "id": "0474c573",
    "outputId": "4a9740be-f419-4008-e80d-1f0844c9be91",
    "papermill": {
     "duration": 0.306814,
     "end_time": "2023-03-27T13:49:34.028004",
     "exception": false,
     "start_time": "2023-03-27T13:49:33.721190",
     "status": "completed"
    },
    "tags": []
   },
   "outputs": [
    {
     "data": {
      "text/plain": [
       "<AxesSubplot:>"
      ]
     },
     "execution_count": 44,
     "metadata": {},
     "output_type": "execute_result"
    },
    {
     "data": {
      "image/png": "[encoded data removed]",
      "text/plain": [
       "<Figure size 640x480 with 2 Axes>"
      ]
     },
     "metadata": {},
     "output_type": "display_data"
    }
   ],
   "source": [
    "sns.heatmap(confusion_matrix(y_test, y_pred), annot=True)"
   ]
  },
  {
   "cell_type": "code",
   "execution_count": 45,
   "id": "4ecd7fe4",
   "metadata": {
    "colab": {
     "base_uri": "https://localhost:8080/"
    },
    "execution": {
     "iopub.execute_input": "2023-03-27T13:49:34.081897Z",
     "iopub.status.busy": "2023-03-27T13:49:34.081443Z",
     "iopub.status.idle": "2023-03-27T13:49:34.089375Z",
     "shell.execute_reply": "2023-03-27T13:49:34.087612Z"
    },
    "id": "4ecd7fe4",
    "outputId": "5b666f98-b8fa-446c-c06c-29e3bbc4e019",
    "papermill": {
     "duration": 0.038028,
     "end_time": "2023-03-27T13:49:34.092225",
     "exception": false,
     "start_time": "2023-03-27T13:49:34.054197",
     "status": "completed"
    },
    "tags": []
   },
   "outputs": [
    {
     "name": "stdout",
     "output_type": "stream",
     "text": [
      "1.0\n"
     ]
    }
   ],
   "source": [
    "accuracy=accuracy_score(y_test, y_pred)\n",
    "print(accuracy)"
   ]
  },
  {
   "cell_type": "code",
   "execution_count": 46,
   "id": "6e432852",
   "metadata": {
    "colab": {
     "base_uri": "https://localhost:8080/"
    },
    "execution": {
     "iopub.execute_input": "2023-03-27T13:49:34.146896Z",
     "iopub.status.busy": "2023-03-27T13:49:34.145894Z",
     "iopub.status.idle": "2023-03-27T13:49:34.159342Z",
     "shell.execute_reply": "2023-03-27T13:49:34.157333Z"
    },
    "id": "6e432852",
    "outputId": "211caa36-c303-4f09-ed19-ec7277d6a1bf",
    "papermill": {
     "duration": 0.045498,
     "end_time": "2023-03-27T13:49:34.163164",
     "exception": false,
     "start_time": "2023-03-27T13:49:34.117666",
     "status": "completed"
    },
    "tags": []
   },
   "outputs": [
    {
     "name": "stdout",
     "output_type": "stream",
     "text": [
      "              precision    recall  f1-score   support\n",
      "\n",
      "           0       1.00      1.00      1.00       313\n",
      "           1       1.00      1.00      1.00        17\n",
      "\n",
      "    accuracy                           1.00       330\n",
      "   macro avg       1.00      1.00      1.00       330\n",
      "weighted avg       1.00      1.00      1.00       330\n",
      "\n"
     ]
    }
   ],
   "source": [
    "print(classification_report(y_pred, y_test))"
   ]
  },
  {
   "cell_type": "code",
   "execution_count": 47,
   "id": "06d0a563",
   "metadata": {
    "id": "06d0a563",
    "papermill": {
     "duration": 0.027123,
     "end_time": "2023-03-27T13:49:34.221031",
     "exception": false,
     "start_time": "2023-03-27T13:49:34.193908",
     "status": "completed"
    },
    "tags": []
   },
   "outputs": [],
   "source": [
    "#deployment\n",
    "import pickle"
   ]
  },
  {
   "cell_type": "code",
   "execution_count": 48,
   "id": "d_i3l-DF1Haa",
   "metadata": {
    "colab": {
     "base_uri": "https://localhost:8080/",
     "height": 175
    },
    "id": "d_i3l-DF1Haa",
    "outputId": "e00b43f9-4d1d-4ca1-dfbb-0535afbd0bce"
   },
   "outputs": [
    {
     "ename": "NameError",
     "evalue": "name 'rf' is not defined",
     "output_type": "error",
     "traceback": [
      "\u001b[0;31m---------------------------------------------------------------------------\u001b[0m",
      "\u001b[0;31mNameError\u001b[0m                                 Traceback (most recent call last)",
      "Input \u001b[0;32mIn [48]\u001b[0m, in \u001b[0;36m<cell line: 1>\u001b[0;34m()\u001b[0m\n\u001b[0;32m----> 1\u001b[0m pickle\u001b[38;5;241m.\u001b[39mdump(\u001b[43mrf\u001b[49m, \u001b[38;5;28mopen\u001b[39m(\u001b[38;5;124m'\u001b[39m\u001b[38;5;124mmodel.pkl\u001b[39m\u001b[38;5;124m'\u001b[39m,\u001b[38;5;124m'\u001b[39m\u001b[38;5;124mwb\u001b[39m\u001b[38;5;124m'\u001b[39m))\n",
      "\u001b[0;31mNameError\u001b[0m: name 'rf' is not defined"
     ]
    }
   ],
   "source": [
    "pickle.dump(rf, open('model.pkl','wb'))"
   ]
  },
  {
   "cell_type": "code",
   "execution_count": 49,
   "id": "XfkaDAo41Hcv",
   "metadata": {
    "id": "XfkaDAo41Hcv"
   },
   "outputs": [
    {
     "name": "stdout",
     "output_type": "stream",
     "text": [
      "Requirement already satisfied: ibm-watson-machine-learning in /opt/conda/envs/Python-3.10/lib/python3.10/site-packages (1.0.326)\n",
      "Collecting ibm-watson-machine-learning\n",
      "  Downloading ibm_watson_machine_learning-1.0.327-py3-none-any.whl (1.7 MB)\n",
      "\u001b[2K     \u001b[90m━━━━━━━━━━━━━━━━━━━━━━━━━━━━━━━━━━━━━━━━\u001b[0m \u001b[32m1.7/1.7 MB\u001b[0m \u001b[31m35.3 MB/s\u001b[0m eta \u001b[36m0:00:00\u001b[0m00:01\u001b[0m\n",
      "\u001b[?25hRequirement already satisfied: ibm-cos-sdk<2.14.0,>=2.12.0 in /opt/conda/envs/Python-3.10/lib/python3.10/site-packages (from ibm-watson-machine-learning) (2.12.0)\n",
      "Requirement already satisfied: tabulate in /opt/conda/envs/Python-3.10/lib/python3.10/site-packages (from ibm-watson-machine-learning) (0.8.10)\n",
      "Requirement already satisfied: lomond in /opt/conda/envs/Python-3.10/lib/python3.10/site-packages (from ibm-watson-machine-learning) (0.3.3)\n",
      "Requirement already satisfied: requests in /opt/conda/envs/Python-3.10/lib/python3.10/site-packages (from ibm-watson-machine-learning) (2.31.0)\n",
      "Requirement already satisfied: urllib3 in /opt/conda/envs/Python-3.10/lib/python3.10/site-packages (from ibm-watson-machine-learning) (1.26.11)\n",
      "Requirement already satisfied: certifi in /opt/conda/envs/Python-3.10/lib/python3.10/site-packages (from ibm-watson-machine-learning) (2023.7.22)\n",
      "Requirement already satisfied: importlib-metadata in /opt/conda/envs/Python-3.10/lib/python3.10/site-packages (from ibm-watson-machine-learning) (4.11.3)\n",
      "Requirement already satisfied: packaging in /opt/conda/envs/Python-3.10/lib/python3.10/site-packages (from ibm-watson-machine-learning) (21.3)\n",
      "Requirement already satisfied: pandas<1.6.0,>=0.24.2 in /opt/conda/envs/Python-3.10/lib/python3.10/site-packages (from ibm-watson-machine-learning) (1.4.3)\n",
      "Requirement already satisfied: ibm-cos-sdk-core==2.12.0 in /opt/conda/envs/Python-3.10/lib/python3.10/site-packages (from ibm-cos-sdk<2.14.0,>=2.12.0->ibm-watson-machine-learning) (2.12.0)\n",
      "Requirement already satisfied: jmespath<1.0.0,>=0.10.0 in /opt/conda/envs/Python-3.10/lib/python3.10/site-packages (from ibm-cos-sdk<2.14.0,>=2.12.0->ibm-watson-machine-learning) (0.10.0)\n",
      "Requirement already satisfied: ibm-cos-sdk-s3transfer==2.12.0 in /opt/conda/envs/Python-3.10/lib/python3.10/site-packages (from ibm-cos-sdk<2.14.0,>=2.12.0->ibm-watson-machine-learning) (2.12.0)\n",
      "Requirement already satisfied: python-dateutil<3.0.0,>=2.8.2 in /opt/conda/envs/Python-3.10/lib/python3.10/site-packages (from ibm-cos-sdk-core==2.12.0->ibm-cos-sdk<2.14.0,>=2.12.0->ibm-watson-machine-learning) (2.8.2)\n",
      "Requirement already satisfied: pytz>=2020.1 in /opt/conda/envs/Python-3.10/lib/python3.10/site-packages (from pandas<1.6.0,>=0.24.2->ibm-watson-machine-learning) (2022.1)\n",
      "Requirement already satisfied: numpy>=1.21.0 in /opt/conda/envs/Python-3.10/lib/python3.10/site-packages (from pandas<1.6.0,>=0.24.2->ibm-watson-machine-learning) (1.23.1)\n",
      "Requirement already satisfied: idna<4,>=2.5 in /opt/conda/envs/Python-3.10/lib/python3.10/site-packages (from requests->ibm-watson-machine-learning) (3.3)\n",
      "Requirement already satisfied: charset-normalizer<4,>=2 in /opt/conda/envs/Python-3.10/lib/python3.10/site-packages (from requests->ibm-watson-machine-learning) (2.0.4)\n",
      "Requirement already satisfied: zipp>=0.5 in /opt/conda/envs/Python-3.10/lib/python3.10/site-packages (from importlib-metadata->ibm-watson-machine-learning) (3.8.0)\n",
      "Requirement already satisfied: six>=1.10.0 in /opt/conda/envs/Python-3.10/lib/python3.10/site-packages (from lomond->ibm-watson-machine-learning) (1.16.0)\n",
      "Requirement already satisfied: pyparsing!=3.0.5,>=2.0.2 in /opt/conda/envs/Python-3.10/lib/python3.10/site-packages (from packaging->ibm-watson-machine-learning) (3.0.9)\n",
      "Installing collected packages: ibm-watson-machine-learning\n",
      "  Attempting uninstall: ibm-watson-machine-learning\n",
      "    Found existing installation: ibm-watson-machine-learning 1.0.326\n",
      "    Uninstalling ibm-watson-machine-learning-1.0.326:\n",
      "      Successfully uninstalled ibm-watson-machine-learning-1.0.326\n",
      "Successfully installed ibm-watson-machine-learning-1.0.327\n"
     ]
    }
   ],
   "source": [
    "!pip install -U ibm-watson-machine-learning"
   ]
  },
  {
   "cell_type": "code",
   "execution_count": 50,
   "id": "gNRguaW41HfS",
   "metadata": {
    "id": "gNRguaW41HfS"
   },
   "outputs": [],
   "source": [
    "from ibm_watson_machine_learning import APIClient\n",
    "import json\n",
    "import numpy as np"
   ]
  },
  {
   "cell_type": "code",
   "execution_count": 52,
   "id": "-pSg5HF31HhB",
   "metadata": {
    "id": "-pSg5HF31HhB"
   },
   "outputs": [],
   "source": [
    "wml_credentials = {\n",
    "    \"apikey\":\"70tyE77Wr1qzhDVOEdwBYWS9qLCNqlx5t0KaJOolCgx5\",\n",
    "    \"url\":\"https://eu-gb.ml.cloud.ibm.com\"\n",
    "}"
   ]
  },
  {
   "cell_type": "code",
   "execution_count": 55,
   "id": "w6TuMAlc1Hiw",
   "metadata": {
    "id": "w6TuMAlc1Hiw"
   },
   "outputs": [],
   "source": [
    "wml_client = APIClient(wml_credentials)"
   ]
  },
  {
   "cell_type": "code",
   "execution_count": 56,
   "id": "0D5mUs-31Hkq",
   "metadata": {
    "id": "0D5mUs-31Hkq"
   },
   "outputs": [
    {
     "name": "stdout",
     "output_type": "stream",
     "text": [
      "Note: 'limit' is not provided. Only first 50 records will be displayed if the number of records exceed 50\n",
      "------------------------------------  -----------------------  ------------------------\n",
      "ID                                    NAME                     CREATED\n",
      "46e46333-79a6-4fc6-b7bc-01b4efc23ec2  CROP_PRED_DEPLOY         2023-10-08T15:53:07.057Z\n",
      "8099dca0-443d-4f47-899e-e2f39927f88a  churn_pred1              2023-09-05T10:32:12.616Z\n",
      "566eeb35-11c9-438e-b71f-cd9ffd7ca207  PLACEMENT_PREDICTOR_IBM  2023-09-03T09:42:25.692Z\n",
      "52a4953e-0fc8-415c-8509-0add7a1170ed  IBM_HC_DEPLOY            2023-09-02T06:37:47.281Z\n",
      "------------------------------------  -----------------------  ------------------------\n"
     ]
    },
    {
     "data": {
      "text/html": [
       "<div>\n",
       "<style scoped>\n",
       "    .dataframe tbody tr th:only-of-type {\n",
       "        vertical-align: middle;\n",
       "    }\n",
       "\n",
       "    .dataframe tbody tr th {\n",
       "        vertical-align: top;\n",
       "    }\n",
       "\n",
       "    .dataframe thead th {\n",
       "        text-align: right;\n",
       "    }\n",
       "</style>\n",
       "<table border=\"1\" class=\"dataframe\">\n",
       "  <thead>\n",
       "    <tr style=\"text-align: right;\">\n",
       "      <th></th>\n",
       "      <th>ID</th>\n",
       "      <th>NAME</th>\n",
       "      <th>CREATED</th>\n",
       "    </tr>\n",
       "  </thead>\n",
       "  <tbody>\n",
       "    <tr>\n",
       "      <th>0</th>\n",
       "      <td>46e46333-79a6-4fc6-b7bc-01b4efc23ec2</td>\n",
       "      <td>CROP_PRED_DEPLOY</td>\n",
       "      <td>2023-10-08T15:53:07.057Z</td>\n",
       "    </tr>\n",
       "    <tr>\n",
       "      <th>1</th>\n",
       "      <td>8099dca0-443d-4f47-899e-e2f39927f88a</td>\n",
       "      <td>churn_pred1</td>\n",
       "      <td>2023-09-05T10:32:12.616Z</td>\n",
       "    </tr>\n",
       "    <tr>\n",
       "      <th>2</th>\n",
       "      <td>566eeb35-11c9-438e-b71f-cd9ffd7ca207</td>\n",
       "      <td>PLACEMENT_PREDICTOR_IBM</td>\n",
       "      <td>2023-09-03T09:42:25.692Z</td>\n",
       "    </tr>\n",
       "    <tr>\n",
       "      <th>3</th>\n",
       "      <td>52a4953e-0fc8-415c-8509-0add7a1170ed</td>\n",
       "      <td>IBM_HC_DEPLOY</td>\n",
       "      <td>2023-09-02T06:37:47.281Z</td>\n",
       "    </tr>\n",
       "  </tbody>\n",
       "</table>\n",
       "</div>"
      ],
      "text/plain": [
       "                                     ID                     NAME  \\\n",
       "0  46e46333-79a6-4fc6-b7bc-01b4efc23ec2         CROP_PRED_DEPLOY   \n",
       "1  8099dca0-443d-4f47-899e-e2f39927f88a              churn_pred1   \n",
       "2  566eeb35-11c9-438e-b71f-cd9ffd7ca207  PLACEMENT_PREDICTOR_IBM   \n",
       "3  52a4953e-0fc8-415c-8509-0add7a1170ed            IBM_HC_DEPLOY   \n",
       "\n",
       "                    CREATED  \n",
       "0  2023-10-08T15:53:07.057Z  \n",
       "1  2023-09-05T10:32:12.616Z  \n",
       "2  2023-09-03T09:42:25.692Z  \n",
       "3  2023-09-02T06:37:47.281Z  "
      ]
     },
     "execution_count": 56,
     "metadata": {},
     "output_type": "execute_result"
    }
   ],
   "source": [
    "wml_client.spaces.list()"
   ]
  },
  {
   "cell_type": "code",
   "execution_count": 58,
   "id": "JZc11irT1Hm2",
   "metadata": {
    "id": "JZc11irT1Hm2"
   },
   "outputs": [],
   "source": [
    "SPACE_ID = \"46e46333-79a6-4fc6-b7bc-01b4efc23ec2\""
   ]
  },
  {
   "cell_type": "code",
   "execution_count": 59,
   "id": "bXqoWFrc1Hol",
   "metadata": {
    "id": "bXqoWFrc1Hol"
   },
   "outputs": [
    {
     "data": {
      "text/plain": [
       "'SUCCESS'"
      ]
     },
     "execution_count": 59,
     "metadata": {},
     "output_type": "execute_result"
    }
   ],
   "source": [
    "wml_client.set.default_space(SPACE_ID)"
   ]
  },
  {
   "cell_type": "code",
   "execution_count": 60,
   "id": "CgV2jQVE1Hr9",
   "metadata": {
    "id": "CgV2jQVE1Hr9"
   },
   "outputs": [],
   "source": [
    "MODEL_NAME = 'demomode3'\n",
    "DEPLOYMENT_NAME = 'demoModelDep'\n",
    "BEST_MODEL = model"
   ]
  },
  {
   "cell_type": "code",
   "execution_count": 61,
   "id": "4yOHyJL91825",
   "metadata": {
    "id": "4yOHyJL91825"
   },
   "outputs": [],
   "source": [
    "software_spec_uid = wml_client.software_specifications.get_id_by_name('runtime-22.2-py3.10')"
   ]
  },
  {
   "cell_type": "code",
   "execution_count": 69,
   "id": "I8Wj7JwC186X",
   "metadata": {
    "id": "I8Wj7JwC186X"
   },
   "outputs": [],
   "source": [
    "model_props = {\n",
    "    wml_client.repository.ModelMetaNames.NAME: MODEL_NAME,\n",
    "    wml_client.repository.ModelMetaNames.TYPE:'scikit-learn_1.1',\n",
    "    wml_client.repository.ModelMetaNames.SOFTWARE_SPEC_UID: software_spec_uid\n",
    "\n",
    "}"
   ]
  },
  {
   "cell_type": "code",
   "execution_count": 70,
   "id": "-IAOb5L-2AJz",
   "metadata": {
    "id": "-IAOb5L-2AJz"
   },
   "outputs": [],
   "source": [
    "model_details = wml_client.repository.store_model(\n",
    "model = BEST_MODEL,\n",
    "meta_props = model_props,\n",
    "training_data = x_train,\n",
    "training_target = y_train)"
   ]
  },
  {
   "cell_type": "code",
   "execution_count": 71,
   "id": "xpXaP8ps2ALj",
   "metadata": {
    "id": "xpXaP8ps2ALj"
   },
   "outputs": [
    {
     "data": {
      "text/plain": [
       "{'entity': {'hybrid_pipeline_software_specs': [],\n",
       "  'label_column': 'l1',\n",
       "  'schemas': {'input': [{'fields': [{'name': 'f0', 'type': 'float'},\n",
       "      {'name': 'f1', 'type': 'float'},\n",
       "      {'name': 'f2', 'type': 'float'},\n",
       "      {'name': 'f3', 'type': 'float'},\n",
       "      {'name': 'f4', 'type': 'float'},\n",
       "      {'name': 'f5', 'type': 'float'},\n",
       "      {'name': 'f6', 'type': 'float'},\n",
       "      {'name': 'f7', 'type': 'float'},\n",
       "      {'name': 'f8', 'type': 'float'}],\n",
       "     'id': '1',\n",
       "     'type': 'struct'}],\n",
       "   'output': []},\n",
       "  'software_spec': {'id': 'b56101f1-309d-549b-a849-eaa63f77b2fb',\n",
       "   'name': 'runtime-22.2-py3.10'},\n",
       "  'training_data_references': [{'id': '1',\n",
       "    'location': {},\n",
       "    'schema': {'fields': [{'name': 'f0', 'type': 'float'},\n",
       "      {'name': 'f1', 'type': 'float'},\n",
       "      {'name': 'f2', 'type': 'float'},\n",
       "      {'name': 'f3', 'type': 'float'},\n",
       "      {'name': 'f4', 'type': 'float'},\n",
       "      {'name': 'f5', 'type': 'float'},\n",
       "      {'name': 'f6', 'type': 'float'},\n",
       "      {'name': 'f7', 'type': 'float'},\n",
       "      {'name': 'f8', 'type': 'float'}],\n",
       "     'id': '1',\n",
       "     'type': 'ndarray'},\n",
       "    'type': 'container'}],\n",
       "  'type': 'scikit-learn_1.1'},\n",
       " 'metadata': {'created_at': '2023-10-08T16:00:16.557Z',\n",
       "  'id': 'e7e7aec8-e91a-4091-87a8-bfa413f77f38',\n",
       "  'modified_at': '2023-10-08T16:00:18.169Z',\n",
       "  'name': 'demomode3',\n",
       "  'owner': 'IBMid-666002GDR6',\n",
       "  'resource_key': 'a29ce614-c220-473c-8521-b26c524de20b',\n",
       "  'space_id': '46e46333-79a6-4fc6-b7bc-01b4efc23ec2'},\n",
       " 'system': {'warnings': []}}"
      ]
     },
     "execution_count": 71,
     "metadata": {},
     "output_type": "execute_result"
    }
   ],
   "source": [
    "model_details"
   ]
  },
  {
   "cell_type": "code",
   "execution_count": 72,
   "id": "3y-OAjLp2ANs",
   "metadata": {
    "id": "3y-OAjLp2ANs"
   },
   "outputs": [
    {
     "data": {
      "text/plain": [
       "'e7e7aec8-e91a-4091-87a8-bfa413f77f38'"
      ]
     },
     "execution_count": 72,
     "metadata": {},
     "output_type": "execute_result"
    }
   ],
   "source": [
    "model_uid = wml_client.repository.get_model_id(model_details)\n",
    "model_uid"
   ]
  },
  {
   "cell_type": "code",
   "execution_count": 73,
   "id": "rpj_dYek2AR2",
   "metadata": {
    "id": "rpj_dYek2AR2"
   },
   "outputs": [],
   "source": [
    "deployment_props = {\n",
    "    wml_client.deployments.ConfigurationMetaNames.NAME: DEPLOYMENT_NAME,\n",
    "    wml_client.deployments.ConfigurationMetaNames.ONLINE: {}\n",
    "}"
   ]
  },
  {
   "cell_type": "code",
   "execution_count": 74,
   "id": "b8vg-16g2ATr",
   "metadata": {
    "id": "b8vg-16g2ATr"
   },
   "outputs": [
    {
     "name": "stdout",
     "output_type": "stream",
     "text": [
      "\n",
      "\n",
      "#######################################################################################\n",
      "\n",
      "Synchronous deployment creation for uid: 'e7e7aec8-e91a-4091-87a8-bfa413f77f38' started\n",
      "\n",
      "#######################################################################################\n",
      "\n",
      "\n",
      "initializing\n",
      "Note: online_url and serving_urls are deprecated and will be removed in a future release. Use inference instead.\n",
      "\n",
      "ready\n",
      "\n",
      "\n",
      "------------------------------------------------------------------------------------------------\n",
      "Successfully finished deployment creation, deployment_uid='e2d9ca0b-801e-43f0-82f2-b97927435361'\n",
      "------------------------------------------------------------------------------------------------\n",
      "\n",
      "\n"
     ]
    }
   ],
   "source": [
    "deployment1 = wml_client.deployments.create(\n",
    "   artifact_uid = model_uid,\n",
    "   meta_props = deployment_props\n",
    ")"
   ]
  },
  {
   "cell_type": "code",
   "execution_count": null,
   "id": "DPmPUOv_2AXb",
   "metadata": {
    "id": "DPmPUOv_2AXb"
   },
   "outputs": [],
   "source": []
  },
  {
   "cell_type": "code",
   "execution_count": null,
   "id": "lPlGCGOR2AbF",
   "metadata": {
    "id": "lPlGCGOR2AbF"
   },
   "outputs": [],
   "source": []
  }
 ],
 "metadata": {
  "colab": {
   "provenance": []
  },
  "kernelspec": {
   "display_name": "Python 3.10",
   "language": "python",
   "name": "python3"
  },
  "language_info": {
   "codemirror_mode": {
    "name": "ipython",
    "version": 3
   },
   "file_extension": ".py",
   "mimetype": "text/x-python",
   "name": "python",
   "nbconvert_exporter": "python",
   "pygments_lexer": "ipython3",
   "version": "3.10.13"
  },
  "papermill": {
   "default_parameters": {},
   "duration": 23.542454,
   "end_time": "2023-03-27T13:49:35.171559",
   "environment_variables": {},
   "exception": null,
   "input_path": "__notebook__.ipynb",
   "output_path": "__notebook__.ipynb",
   "parameters": {},
   "start_time": "2023-03-27T13:49:11.629105",
   "version": "2.4.0"
  }
 },
 "nbformat": 4,
 "nbformat_minor": 5
}
